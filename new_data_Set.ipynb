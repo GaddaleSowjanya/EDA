{
 "cells": [
  {
   "cell_type": "markdown",
   "id": "30fbd343",
   "metadata": {},
   "source": [
    "**EDA steps**\n",
    "\n",
    "- 1.read the data\n",
    "\n",
    "- 2.seperate categorical columns and numerical columns\n",
    "\n",
    "- 3.data quick checks\n",
    "\n",
    "    - shape,columns,dtypes and etc\n",
    "\n",
    "- 4.null value analysis\n",
    "\n",
    "    - a) check if any null values are present\n",
    "    \n",
    "    - b) fill null values with median or knnimputer for numerical columns\n",
    "    \n",
    "    - c) fill the null values with mode for categorical columns\n",
    "    \n",
    "- 5. do some data preprocessing\n",
    "\n",
    "    - if any column is correpted\n",
    "    \n",
    "    - ex: numerical vales in categorical columns\n",
    "        \n",
    "        - or categorical vales in numerical columns\n",
    "        \n",
    "- 6. drop the id types columns\n",
    "\n",
    "    - which means data has more unique labels\n",
    "    \n",
    "    - drop the single value columns\n",
    "    \n",
    "- 7. categorical column analysis\n",
    "\n",
    "    - a) frequency table\n",
    "    \n",
    "    - b) bar charts\n",
    "    \n",
    "    - c) pie charts\n",
    "    \n",
    "- 8. numerical column analysis\n",
    "\n",
    "    - a) histogram\n",
    "    \n",
    "    - b) distribution plots\n",
    "    \n",
    "    - c) box plot\n",
    "    \n",
    "- 9. outlier analysis\n",
    "\n",
    "    - impute outliers with median\n",
    "    \n",
    "- 10. find the correlation between numerical columns\n",
    "\n",
    "    - heat map\n",
    "    \n",
    "- 11. convert categorical to numerical\n",
    "\n",
    "    - a) labelEncoder\n",
    "    \n",
    "    - b) one hot encoder\n",
    "    \n",
    "- 12. scale the data\n",
    "\n",
    "    - a) z standardization\n",
    "    \n",
    "    - b) normalization\n",
    "    \n",
    "- by the time of 12 steps we achieve 3 things\n",
    "    \n",
    "    - 1.cleaned data\n",
    "    \n",
    "    - 2.data in the form of complete numerical\n",
    "    \n",
    "    - 3.we have some understanding the data\n",
    "    \n",
    "- 13. we will try to select important fetures for ml model\n",
    "\n",
    "    - a) pca: princial component analysis ( will be coverd in ML)\n",
    "    \n",
    "- finally we achieve 3 data sets\n",
    "\n",
    "    - 1. till step-11\n",
    "        \n",
    "        - with out scale but data in numerical format\n",
    "        \n",
    "    - 2. till step-12 \n",
    "    \n",
    "        - with scaling data in numerical format\n",
    "    \n",
    "    - 3. till step-13 \n",
    "        \n",
    "        - PCA data"
   ]
  },
  {
   "cell_type": "code",
   "execution_count": 133,
   "id": "9fda03b9",
   "metadata": {},
   "outputs": [],
   "source": [
    "import pandas as pd\n",
    "import numpy as np\n",
    "import matplotlib.pyplot as plt\n",
    "import seaborn as sns"
   ]
  },
  {
   "cell_type": "markdown",
   "id": "553458ad",
   "metadata": {},
   "source": [
    "**1.read the data**"
   ]
  },
  {
   "cell_type": "code",
   "execution_count": 134,
   "id": "e192e621",
   "metadata": {
    "scrolled": true
   },
   "outputs": [
    {
     "data": {
      "text/html": [
       "<div>\n",
       "<style scoped>\n",
       "    .dataframe tbody tr th:only-of-type {\n",
       "        vertical-align: middle;\n",
       "    }\n",
       "\n",
       "    .dataframe tbody tr th {\n",
       "        vertical-align: top;\n",
       "    }\n",
       "\n",
       "    .dataframe thead th {\n",
       "        text-align: right;\n",
       "    }\n",
       "</style>\n",
       "<table border=\"1\" class=\"dataframe\">\n",
       "  <thead>\n",
       "    <tr style=\"text-align: right;\">\n",
       "      <th></th>\n",
       "      <th>year</th>\n",
       "      <th>customer_id</th>\n",
       "      <th>phone_no</th>\n",
       "      <th>gender</th>\n",
       "      <th>age</th>\n",
       "      <th>no_of_days_subscribed</th>\n",
       "      <th>multi_screen</th>\n",
       "      <th>mail_subscribed</th>\n",
       "      <th>weekly_mins_watched</th>\n",
       "      <th>minimum_daily_mins</th>\n",
       "      <th>maximum_daily_mins</th>\n",
       "      <th>weekly_max_night_mins</th>\n",
       "      <th>videos_watched</th>\n",
       "      <th>maximum_days_inactive</th>\n",
       "      <th>customer_support_calls</th>\n",
       "      <th>churn</th>\n",
       "    </tr>\n",
       "  </thead>\n",
       "  <tbody>\n",
       "    <tr>\n",
       "      <th>0</th>\n",
       "      <td>2015</td>\n",
       "      <td>100198</td>\n",
       "      <td>409-8743</td>\n",
       "      <td>Female</td>\n",
       "      <td>36</td>\n",
       "      <td>62</td>\n",
       "      <td>no</td>\n",
       "      <td>no</td>\n",
       "      <td>148.35</td>\n",
       "      <td>12.2</td>\n",
       "      <td>16.81</td>\n",
       "      <td>82</td>\n",
       "      <td>1</td>\n",
       "      <td>4.0</td>\n",
       "      <td>1</td>\n",
       "      <td>0.0</td>\n",
       "    </tr>\n",
       "    <tr>\n",
       "      <th>1</th>\n",
       "      <td>2015</td>\n",
       "      <td>100643</td>\n",
       "      <td>340-5930</td>\n",
       "      <td>Female</td>\n",
       "      <td>39</td>\n",
       "      <td>149</td>\n",
       "      <td>no</td>\n",
       "      <td>no</td>\n",
       "      <td>294.45</td>\n",
       "      <td>7.7</td>\n",
       "      <td>33.37</td>\n",
       "      <td>87</td>\n",
       "      <td>3</td>\n",
       "      <td>3.0</td>\n",
       "      <td>2</td>\n",
       "      <td>0.0</td>\n",
       "    </tr>\n",
       "    <tr>\n",
       "      <th>2</th>\n",
       "      <td>2015</td>\n",
       "      <td>100756</td>\n",
       "      <td>372-3750</td>\n",
       "      <td>Female</td>\n",
       "      <td>65</td>\n",
       "      <td>126</td>\n",
       "      <td>no</td>\n",
       "      <td>no</td>\n",
       "      <td>87.30</td>\n",
       "      <td>11.9</td>\n",
       "      <td>9.89</td>\n",
       "      <td>91</td>\n",
       "      <td>1</td>\n",
       "      <td>4.0</td>\n",
       "      <td>5</td>\n",
       "      <td>1.0</td>\n",
       "    </tr>\n",
       "    <tr>\n",
       "      <th>3</th>\n",
       "      <td>2015</td>\n",
       "      <td>101595</td>\n",
       "      <td>331-4902</td>\n",
       "      <td>Female</td>\n",
       "      <td>24</td>\n",
       "      <td>131</td>\n",
       "      <td>no</td>\n",
       "      <td>yes</td>\n",
       "      <td>321.30</td>\n",
       "      <td>9.5</td>\n",
       "      <td>36.41</td>\n",
       "      <td>102</td>\n",
       "      <td>4</td>\n",
       "      <td>3.0</td>\n",
       "      <td>3</td>\n",
       "      <td>0.0</td>\n",
       "    </tr>\n",
       "    <tr>\n",
       "      <th>4</th>\n",
       "      <td>2015</td>\n",
       "      <td>101653</td>\n",
       "      <td>351-8398</td>\n",
       "      <td>Female</td>\n",
       "      <td>40</td>\n",
       "      <td>191</td>\n",
       "      <td>no</td>\n",
       "      <td>no</td>\n",
       "      <td>243.00</td>\n",
       "      <td>10.9</td>\n",
       "      <td>27.54</td>\n",
       "      <td>83</td>\n",
       "      <td>7</td>\n",
       "      <td>3.0</td>\n",
       "      <td>1</td>\n",
       "      <td>0.0</td>\n",
       "    </tr>\n",
       "    <tr>\n",
       "      <th>...</th>\n",
       "      <td>...</td>\n",
       "      <td>...</td>\n",
       "      <td>...</td>\n",
       "      <td>...</td>\n",
       "      <td>...</td>\n",
       "      <td>...</td>\n",
       "      <td>...</td>\n",
       "      <td>...</td>\n",
       "      <td>...</td>\n",
       "      <td>...</td>\n",
       "      <td>...</td>\n",
       "      <td>...</td>\n",
       "      <td>...</td>\n",
       "      <td>...</td>\n",
       "      <td>...</td>\n",
       "      <td>...</td>\n",
       "    </tr>\n",
       "    <tr>\n",
       "      <th>1995</th>\n",
       "      <td>2015</td>\n",
       "      <td>997132</td>\n",
       "      <td>385-7387</td>\n",
       "      <td>Female</td>\n",
       "      <td>54</td>\n",
       "      <td>75</td>\n",
       "      <td>no</td>\n",
       "      <td>yes</td>\n",
       "      <td>182.25</td>\n",
       "      <td>11.3</td>\n",
       "      <td>20.66</td>\n",
       "      <td>97</td>\n",
       "      <td>5</td>\n",
       "      <td>4.0</td>\n",
       "      <td>2</td>\n",
       "      <td>NaN</td>\n",
       "    </tr>\n",
       "    <tr>\n",
       "      <th>1996</th>\n",
       "      <td>2015</td>\n",
       "      <td>998086</td>\n",
       "      <td>383-9255</td>\n",
       "      <td>Male</td>\n",
       "      <td>45</td>\n",
       "      <td>127</td>\n",
       "      <td>no</td>\n",
       "      <td>no</td>\n",
       "      <td>273.45</td>\n",
       "      <td>9.3</td>\n",
       "      <td>30.99</td>\n",
       "      <td>116</td>\n",
       "      <td>3</td>\n",
       "      <td>3.0</td>\n",
       "      <td>1</td>\n",
       "      <td>0.0</td>\n",
       "    </tr>\n",
       "    <tr>\n",
       "      <th>1997</th>\n",
       "      <td>2015</td>\n",
       "      <td>998474</td>\n",
       "      <td>353-2080</td>\n",
       "      <td>NaN</td>\n",
       "      <td>53</td>\n",
       "      <td>94</td>\n",
       "      <td>no</td>\n",
       "      <td>no</td>\n",
       "      <td>128.85</td>\n",
       "      <td>15.6</td>\n",
       "      <td>14.60</td>\n",
       "      <td>110</td>\n",
       "      <td>16</td>\n",
       "      <td>5.0</td>\n",
       "      <td>0</td>\n",
       "      <td>0.0</td>\n",
       "    </tr>\n",
       "    <tr>\n",
       "      <th>1998</th>\n",
       "      <td>2015</td>\n",
       "      <td>998934</td>\n",
       "      <td>359-7788</td>\n",
       "      <td>Male</td>\n",
       "      <td>40</td>\n",
       "      <td>94</td>\n",
       "      <td>no</td>\n",
       "      <td>no</td>\n",
       "      <td>178.05</td>\n",
       "      <td>10.4</td>\n",
       "      <td>20.18</td>\n",
       "      <td>100</td>\n",
       "      <td>6</td>\n",
       "      <td>NaN</td>\n",
       "      <td>3</td>\n",
       "      <td>0.0</td>\n",
       "    </tr>\n",
       "    <tr>\n",
       "      <th>1999</th>\n",
       "      <td>2015</td>\n",
       "      <td>999961</td>\n",
       "      <td>414-1496</td>\n",
       "      <td>Male</td>\n",
       "      <td>37</td>\n",
       "      <td>73</td>\n",
       "      <td>no</td>\n",
       "      <td>no</td>\n",
       "      <td>326.70</td>\n",
       "      <td>10.3</td>\n",
       "      <td>37.03</td>\n",
       "      <td>89</td>\n",
       "      <td>6</td>\n",
       "      <td>3.0</td>\n",
       "      <td>1</td>\n",
       "      <td>1.0</td>\n",
       "    </tr>\n",
       "  </tbody>\n",
       "</table>\n",
       "<p>2000 rows × 16 columns</p>\n",
       "</div>"
      ],
      "text/plain": [
       "      year  customer_id  phone_no  gender  age  no_of_days_subscribed  \\\n",
       "0     2015       100198  409-8743  Female   36                     62   \n",
       "1     2015       100643  340-5930  Female   39                    149   \n",
       "2     2015       100756  372-3750  Female   65                    126   \n",
       "3     2015       101595  331-4902  Female   24                    131   \n",
       "4     2015       101653  351-8398  Female   40                    191   \n",
       "...    ...          ...       ...     ...  ...                    ...   \n",
       "1995  2015       997132  385-7387  Female   54                     75   \n",
       "1996  2015       998086  383-9255    Male   45                    127   \n",
       "1997  2015       998474  353-2080     NaN   53                     94   \n",
       "1998  2015       998934  359-7788    Male   40                     94   \n",
       "1999  2015       999961  414-1496    Male   37                     73   \n",
       "\n",
       "     multi_screen mail_subscribed  weekly_mins_watched  minimum_daily_mins  \\\n",
       "0              no              no               148.35                12.2   \n",
       "1              no              no               294.45                 7.7   \n",
       "2              no              no                87.30                11.9   \n",
       "3              no             yes               321.30                 9.5   \n",
       "4              no              no               243.00                10.9   \n",
       "...           ...             ...                  ...                 ...   \n",
       "1995           no             yes               182.25                11.3   \n",
       "1996           no              no               273.45                 9.3   \n",
       "1997           no              no               128.85                15.6   \n",
       "1998           no              no               178.05                10.4   \n",
       "1999           no              no               326.70                10.3   \n",
       "\n",
       "      maximum_daily_mins  weekly_max_night_mins  videos_watched  \\\n",
       "0                  16.81                     82               1   \n",
       "1                  33.37                     87               3   \n",
       "2                   9.89                     91               1   \n",
       "3                  36.41                    102               4   \n",
       "4                  27.54                     83               7   \n",
       "...                  ...                    ...             ...   \n",
       "1995               20.66                     97               5   \n",
       "1996               30.99                    116               3   \n",
       "1997               14.60                    110              16   \n",
       "1998               20.18                    100               6   \n",
       "1999               37.03                     89               6   \n",
       "\n",
       "      maximum_days_inactive  customer_support_calls  churn  \n",
       "0                       4.0                       1    0.0  \n",
       "1                       3.0                       2    0.0  \n",
       "2                       4.0                       5    1.0  \n",
       "3                       3.0                       3    0.0  \n",
       "4                       3.0                       1    0.0  \n",
       "...                     ...                     ...    ...  \n",
       "1995                    4.0                       2    NaN  \n",
       "1996                    3.0                       1    0.0  \n",
       "1997                    5.0                       0    0.0  \n",
       "1998                    NaN                       3    0.0  \n",
       "1999                    3.0                       1    1.0  \n",
       "\n",
       "[2000 rows x 16 columns]"
      ]
     },
     "execution_count": 134,
     "metadata": {},
     "output_type": "execute_result"
    }
   ],
   "source": [
    "tele_df=pd.read_csv(r'C:\\Users\\SONY\\Desktop\\data science\\naresh_it\\data_Science\\data_files\\telecom_churn_data.csv')\n",
    "tele_df"
   ]
  },
  {
   "cell_type": "markdown",
   "id": "8bb4a53b",
   "metadata": {},
   "source": [
    "**2.seperate categorical columns and numerical columns**"
   ]
  },
  {
   "cell_type": "code",
   "execution_count": 135,
   "id": "a0884930",
   "metadata": {},
   "outputs": [
    {
     "data": {
      "text/plain": [
       "year                        int64\n",
       "customer_id                 int64\n",
       "phone_no                   object\n",
       "gender                     object\n",
       "age                         int64\n",
       "no_of_days_subscribed       int64\n",
       "multi_screen               object\n",
       "mail_subscribed            object\n",
       "weekly_mins_watched       float64\n",
       "minimum_daily_mins        float64\n",
       "maximum_daily_mins        float64\n",
       "weekly_max_night_mins       int64\n",
       "videos_watched              int64\n",
       "maximum_days_inactive     float64\n",
       "customer_support_calls      int64\n",
       "churn                     float64\n",
       "dtype: object"
      ]
     },
     "execution_count": 135,
     "metadata": {},
     "output_type": "execute_result"
    }
   ],
   "source": [
    "tele_df.dtypes"
   ]
  },
  {
   "cell_type": "code",
   "execution_count": 136,
   "id": "447c978e",
   "metadata": {},
   "outputs": [],
   "source": [
    "cat=tele_df.select_dtypes(include='object').columns\n",
    "num=tele_df.select_dtypes(exclude='object').columns"
   ]
  },
  {
   "cell_type": "code",
   "execution_count": 137,
   "id": "5802fc4f",
   "metadata": {},
   "outputs": [
    {
     "data": {
      "text/plain": [
       "Index(['phone_no', 'gender', 'multi_screen', 'mail_subscribed'], dtype='object')"
      ]
     },
     "execution_count": 137,
     "metadata": {},
     "output_type": "execute_result"
    }
   ],
   "source": [
    "cat"
   ]
  },
  {
   "cell_type": "code",
   "execution_count": 138,
   "id": "872a1af9",
   "metadata": {
    "scrolled": true
   },
   "outputs": [
    {
     "data": {
      "text/plain": [
       "Index(['year', 'customer_id', 'age', 'no_of_days_subscribed',\n",
       "       'weekly_mins_watched', 'minimum_daily_mins', 'maximum_daily_mins',\n",
       "       'weekly_max_night_mins', 'videos_watched', 'maximum_days_inactive',\n",
       "       'customer_support_calls', 'churn'],\n",
       "      dtype='object')"
      ]
     },
     "execution_count": 138,
     "metadata": {},
     "output_type": "execute_result"
    }
   ],
   "source": [
    "num"
   ]
  },
  {
   "cell_type": "markdown",
   "id": "72391213",
   "metadata": {},
   "source": [
    "**3.data quick checks**"
   ]
  },
  {
   "cell_type": "code",
   "execution_count": 139,
   "id": "c0f27329",
   "metadata": {},
   "outputs": [
    {
     "data": {
      "text/plain": [
       "(2000, 16)"
      ]
     },
     "execution_count": 139,
     "metadata": {},
     "output_type": "execute_result"
    }
   ],
   "source": [
    "tele_df.shape"
   ]
  },
  {
   "cell_type": "code",
   "execution_count": 140,
   "id": "3312643d",
   "metadata": {},
   "outputs": [
    {
     "data": {
      "text/html": [
       "<div>\n",
       "<style scoped>\n",
       "    .dataframe tbody tr th:only-of-type {\n",
       "        vertical-align: middle;\n",
       "    }\n",
       "\n",
       "    .dataframe tbody tr th {\n",
       "        vertical-align: top;\n",
       "    }\n",
       "\n",
       "    .dataframe thead th {\n",
       "        text-align: right;\n",
       "    }\n",
       "</style>\n",
       "<table border=\"1\" class=\"dataframe\">\n",
       "  <thead>\n",
       "    <tr style=\"text-align: right;\">\n",
       "      <th></th>\n",
       "      <th>year</th>\n",
       "      <th>customer_id</th>\n",
       "      <th>phone_no</th>\n",
       "      <th>gender</th>\n",
       "      <th>age</th>\n",
       "      <th>no_of_days_subscribed</th>\n",
       "      <th>multi_screen</th>\n",
       "      <th>mail_subscribed</th>\n",
       "      <th>weekly_mins_watched</th>\n",
       "      <th>minimum_daily_mins</th>\n",
       "      <th>maximum_daily_mins</th>\n",
       "      <th>weekly_max_night_mins</th>\n",
       "      <th>videos_watched</th>\n",
       "      <th>maximum_days_inactive</th>\n",
       "      <th>customer_support_calls</th>\n",
       "      <th>churn</th>\n",
       "    </tr>\n",
       "  </thead>\n",
       "  <tbody>\n",
       "    <tr>\n",
       "      <th>0</th>\n",
       "      <td>False</td>\n",
       "      <td>False</td>\n",
       "      <td>False</td>\n",
       "      <td>False</td>\n",
       "      <td>False</td>\n",
       "      <td>False</td>\n",
       "      <td>False</td>\n",
       "      <td>False</td>\n",
       "      <td>False</td>\n",
       "      <td>False</td>\n",
       "      <td>False</td>\n",
       "      <td>False</td>\n",
       "      <td>False</td>\n",
       "      <td>False</td>\n",
       "      <td>False</td>\n",
       "      <td>False</td>\n",
       "    </tr>\n",
       "    <tr>\n",
       "      <th>1</th>\n",
       "      <td>False</td>\n",
       "      <td>False</td>\n",
       "      <td>False</td>\n",
       "      <td>False</td>\n",
       "      <td>False</td>\n",
       "      <td>False</td>\n",
       "      <td>False</td>\n",
       "      <td>False</td>\n",
       "      <td>False</td>\n",
       "      <td>False</td>\n",
       "      <td>False</td>\n",
       "      <td>False</td>\n",
       "      <td>False</td>\n",
       "      <td>False</td>\n",
       "      <td>False</td>\n",
       "      <td>False</td>\n",
       "    </tr>\n",
       "    <tr>\n",
       "      <th>2</th>\n",
       "      <td>False</td>\n",
       "      <td>False</td>\n",
       "      <td>False</td>\n",
       "      <td>False</td>\n",
       "      <td>False</td>\n",
       "      <td>False</td>\n",
       "      <td>False</td>\n",
       "      <td>False</td>\n",
       "      <td>False</td>\n",
       "      <td>False</td>\n",
       "      <td>False</td>\n",
       "      <td>False</td>\n",
       "      <td>False</td>\n",
       "      <td>False</td>\n",
       "      <td>False</td>\n",
       "      <td>False</td>\n",
       "    </tr>\n",
       "    <tr>\n",
       "      <th>3</th>\n",
       "      <td>False</td>\n",
       "      <td>False</td>\n",
       "      <td>False</td>\n",
       "      <td>False</td>\n",
       "      <td>False</td>\n",
       "      <td>False</td>\n",
       "      <td>False</td>\n",
       "      <td>False</td>\n",
       "      <td>False</td>\n",
       "      <td>False</td>\n",
       "      <td>False</td>\n",
       "      <td>False</td>\n",
       "      <td>False</td>\n",
       "      <td>False</td>\n",
       "      <td>False</td>\n",
       "      <td>False</td>\n",
       "    </tr>\n",
       "    <tr>\n",
       "      <th>4</th>\n",
       "      <td>False</td>\n",
       "      <td>False</td>\n",
       "      <td>False</td>\n",
       "      <td>False</td>\n",
       "      <td>False</td>\n",
       "      <td>False</td>\n",
       "      <td>False</td>\n",
       "      <td>False</td>\n",
       "      <td>False</td>\n",
       "      <td>False</td>\n",
       "      <td>False</td>\n",
       "      <td>False</td>\n",
       "      <td>False</td>\n",
       "      <td>False</td>\n",
       "      <td>False</td>\n",
       "      <td>False</td>\n",
       "    </tr>\n",
       "    <tr>\n",
       "      <th>...</th>\n",
       "      <td>...</td>\n",
       "      <td>...</td>\n",
       "      <td>...</td>\n",
       "      <td>...</td>\n",
       "      <td>...</td>\n",
       "      <td>...</td>\n",
       "      <td>...</td>\n",
       "      <td>...</td>\n",
       "      <td>...</td>\n",
       "      <td>...</td>\n",
       "      <td>...</td>\n",
       "      <td>...</td>\n",
       "      <td>...</td>\n",
       "      <td>...</td>\n",
       "      <td>...</td>\n",
       "      <td>...</td>\n",
       "    </tr>\n",
       "    <tr>\n",
       "      <th>1995</th>\n",
       "      <td>False</td>\n",
       "      <td>False</td>\n",
       "      <td>False</td>\n",
       "      <td>False</td>\n",
       "      <td>False</td>\n",
       "      <td>False</td>\n",
       "      <td>False</td>\n",
       "      <td>False</td>\n",
       "      <td>False</td>\n",
       "      <td>False</td>\n",
       "      <td>False</td>\n",
       "      <td>False</td>\n",
       "      <td>False</td>\n",
       "      <td>False</td>\n",
       "      <td>False</td>\n",
       "      <td>True</td>\n",
       "    </tr>\n",
       "    <tr>\n",
       "      <th>1996</th>\n",
       "      <td>False</td>\n",
       "      <td>False</td>\n",
       "      <td>False</td>\n",
       "      <td>False</td>\n",
       "      <td>False</td>\n",
       "      <td>False</td>\n",
       "      <td>False</td>\n",
       "      <td>False</td>\n",
       "      <td>False</td>\n",
       "      <td>False</td>\n",
       "      <td>False</td>\n",
       "      <td>False</td>\n",
       "      <td>False</td>\n",
       "      <td>False</td>\n",
       "      <td>False</td>\n",
       "      <td>False</td>\n",
       "    </tr>\n",
       "    <tr>\n",
       "      <th>1997</th>\n",
       "      <td>False</td>\n",
       "      <td>False</td>\n",
       "      <td>False</td>\n",
       "      <td>True</td>\n",
       "      <td>False</td>\n",
       "      <td>False</td>\n",
       "      <td>False</td>\n",
       "      <td>False</td>\n",
       "      <td>False</td>\n",
       "      <td>False</td>\n",
       "      <td>False</td>\n",
       "      <td>False</td>\n",
       "      <td>False</td>\n",
       "      <td>False</td>\n",
       "      <td>False</td>\n",
       "      <td>False</td>\n",
       "    </tr>\n",
       "    <tr>\n",
       "      <th>1998</th>\n",
       "      <td>False</td>\n",
       "      <td>False</td>\n",
       "      <td>False</td>\n",
       "      <td>False</td>\n",
       "      <td>False</td>\n",
       "      <td>False</td>\n",
       "      <td>False</td>\n",
       "      <td>False</td>\n",
       "      <td>False</td>\n",
       "      <td>False</td>\n",
       "      <td>False</td>\n",
       "      <td>False</td>\n",
       "      <td>False</td>\n",
       "      <td>True</td>\n",
       "      <td>False</td>\n",
       "      <td>False</td>\n",
       "    </tr>\n",
       "    <tr>\n",
       "      <th>1999</th>\n",
       "      <td>False</td>\n",
       "      <td>False</td>\n",
       "      <td>False</td>\n",
       "      <td>False</td>\n",
       "      <td>False</td>\n",
       "      <td>False</td>\n",
       "      <td>False</td>\n",
       "      <td>False</td>\n",
       "      <td>False</td>\n",
       "      <td>False</td>\n",
       "      <td>False</td>\n",
       "      <td>False</td>\n",
       "      <td>False</td>\n",
       "      <td>False</td>\n",
       "      <td>False</td>\n",
       "      <td>False</td>\n",
       "    </tr>\n",
       "  </tbody>\n",
       "</table>\n",
       "<p>2000 rows × 16 columns</p>\n",
       "</div>"
      ],
      "text/plain": [
       "       year  customer_id  phone_no  gender    age  no_of_days_subscribed  \\\n",
       "0     False        False     False   False  False                  False   \n",
       "1     False        False     False   False  False                  False   \n",
       "2     False        False     False   False  False                  False   \n",
       "3     False        False     False   False  False                  False   \n",
       "4     False        False     False   False  False                  False   \n",
       "...     ...          ...       ...     ...    ...                    ...   \n",
       "1995  False        False     False   False  False                  False   \n",
       "1996  False        False     False   False  False                  False   \n",
       "1997  False        False     False    True  False                  False   \n",
       "1998  False        False     False   False  False                  False   \n",
       "1999  False        False     False   False  False                  False   \n",
       "\n",
       "      multi_screen  mail_subscribed  weekly_mins_watched  minimum_daily_mins  \\\n",
       "0            False            False                False               False   \n",
       "1            False            False                False               False   \n",
       "2            False            False                False               False   \n",
       "3            False            False                False               False   \n",
       "4            False            False                False               False   \n",
       "...            ...              ...                  ...                 ...   \n",
       "1995         False            False                False               False   \n",
       "1996         False            False                False               False   \n",
       "1997         False            False                False               False   \n",
       "1998         False            False                False               False   \n",
       "1999         False            False                False               False   \n",
       "\n",
       "      maximum_daily_mins  weekly_max_night_mins  videos_watched  \\\n",
       "0                  False                  False           False   \n",
       "1                  False                  False           False   \n",
       "2                  False                  False           False   \n",
       "3                  False                  False           False   \n",
       "4                  False                  False           False   \n",
       "...                  ...                    ...             ...   \n",
       "1995               False                  False           False   \n",
       "1996               False                  False           False   \n",
       "1997               False                  False           False   \n",
       "1998               False                  False           False   \n",
       "1999               False                  False           False   \n",
       "\n",
       "      maximum_days_inactive  customer_support_calls  churn  \n",
       "0                     False                   False  False  \n",
       "1                     False                   False  False  \n",
       "2                     False                   False  False  \n",
       "3                     False                   False  False  \n",
       "4                     False                   False  False  \n",
       "...                     ...                     ...    ...  \n",
       "1995                  False                   False   True  \n",
       "1996                  False                   False  False  \n",
       "1997                  False                   False  False  \n",
       "1998                   True                   False  False  \n",
       "1999                  False                   False  False  \n",
       "\n",
       "[2000 rows x 16 columns]"
      ]
     },
     "execution_count": 140,
     "metadata": {},
     "output_type": "execute_result"
    }
   ],
   "source": [
    "tele_df.isnull()"
   ]
  },
  {
   "cell_type": "code",
   "execution_count": 141,
   "id": "78c861a4",
   "metadata": {},
   "outputs": [
    {
     "data": {
      "text/plain": [
       "year                       0\n",
       "customer_id                0\n",
       "phone_no                   0\n",
       "gender                    24\n",
       "age                        0\n",
       "no_of_days_subscribed      0\n",
       "multi_screen               0\n",
       "mail_subscribed            0\n",
       "weekly_mins_watched        0\n",
       "minimum_daily_mins         0\n",
       "maximum_daily_mins         0\n",
       "weekly_max_night_mins      0\n",
       "videos_watched             0\n",
       "maximum_days_inactive     28\n",
       "customer_support_calls     0\n",
       "churn                     35\n",
       "dtype: int64"
      ]
     },
     "execution_count": 141,
     "metadata": {},
     "output_type": "execute_result"
    }
   ],
   "source": [
    "tele_df.isnull().sum()"
   ]
  },
  {
   "cell_type": "code",
   "execution_count": 142,
   "id": "a352a7e1",
   "metadata": {},
   "outputs": [
    {
     "data": {
      "text/plain": [
       "year                        int64\n",
       "customer_id                 int64\n",
       "phone_no                   object\n",
       "gender                     object\n",
       "age                         int64\n",
       "no_of_days_subscribed       int64\n",
       "multi_screen               object\n",
       "mail_subscribed            object\n",
       "weekly_mins_watched       float64\n",
       "minimum_daily_mins        float64\n",
       "maximum_daily_mins        float64\n",
       "weekly_max_night_mins       int64\n",
       "videos_watched              int64\n",
       "maximum_days_inactive     float64\n",
       "customer_support_calls      int64\n",
       "churn                     float64\n",
       "dtype: object"
      ]
     },
     "execution_count": 142,
     "metadata": {},
     "output_type": "execute_result"
    }
   ],
   "source": [
    "tele_df.dtypes"
   ]
  },
  {
   "cell_type": "code",
   "execution_count": 143,
   "id": "a27b37e8",
   "metadata": {},
   "outputs": [
    {
     "data": {
      "text/plain": [
       "0    Male\n",
       "Name: gender, dtype: object"
      ]
     },
     "execution_count": 143,
     "metadata": {},
     "output_type": "execute_result"
    }
   ],
   "source": [
    "mode_tele=tele_df['gender'].mode()\n",
    "mode_tele"
   ]
  },
  {
   "cell_type": "markdown",
   "id": "b8cdfe13",
   "metadata": {},
   "source": [
    "**4.null value analysis**"
   ]
  },
  {
   "cell_type": "code",
   "execution_count": 144,
   "id": "0956ad23",
   "metadata": {},
   "outputs": [
    {
     "data": {
      "text/plain": [
       "24"
      ]
     },
     "execution_count": 144,
     "metadata": {},
     "output_type": "execute_result"
    }
   ],
   "source": [
    "tele_df['gender'].isnull().sum()"
   ]
  },
  {
   "cell_type": "code",
   "execution_count": 145,
   "id": "e9b83dcb",
   "metadata": {},
   "outputs": [],
   "source": [
    "tele_df['gender'].fillna(value='Male',inplace=True)"
   ]
  },
  {
   "cell_type": "code",
   "execution_count": 146,
   "id": "013e59c5",
   "metadata": {},
   "outputs": [
    {
     "data": {
      "text/plain": [
       "0"
      ]
     },
     "execution_count": 146,
     "metadata": {},
     "output_type": "execute_result"
    }
   ],
   "source": [
    "tele_df['gender'].isnull().sum()"
   ]
  },
  {
   "cell_type": "code",
   "execution_count": 147,
   "id": "7b0b239c",
   "metadata": {},
   "outputs": [],
   "source": [
    "median_tele=tele_df['churn'].median()"
   ]
  },
  {
   "cell_type": "code",
   "execution_count": 148,
   "id": "a43432c8",
   "metadata": {},
   "outputs": [
    {
     "data": {
      "text/plain": [
       "0.0"
      ]
     },
     "execution_count": 148,
     "metadata": {},
     "output_type": "execute_result"
    }
   ],
   "source": [
    "median_tele"
   ]
  },
  {
   "cell_type": "code",
   "execution_count": 149,
   "id": "737c3ff0",
   "metadata": {},
   "outputs": [],
   "source": [
    "tele_df['churn'].fillna(value=median_tele,inplace=True)"
   ]
  },
  {
   "cell_type": "code",
   "execution_count": 150,
   "id": "12fc8071",
   "metadata": {},
   "outputs": [
    {
     "data": {
      "text/plain": [
       "0"
      ]
     },
     "execution_count": 150,
     "metadata": {},
     "output_type": "execute_result"
    }
   ],
   "source": [
    "tele_df['churn'].isnull().sum()"
   ]
  },
  {
   "cell_type": "code",
   "execution_count": 151,
   "id": "7b6d476c",
   "metadata": {},
   "outputs": [
    {
     "data": {
      "text/plain": [
       "28"
      ]
     },
     "execution_count": 151,
     "metadata": {},
     "output_type": "execute_result"
    }
   ],
   "source": [
    "tele_df['maximum_days_inactive'].isnull().sum()"
   ]
  },
  {
   "cell_type": "code",
   "execution_count": 152,
   "id": "71a72495",
   "metadata": {},
   "outputs": [],
   "source": [
    "max_median=tele_df['maximum_days_inactive'].median()"
   ]
  },
  {
   "cell_type": "code",
   "execution_count": 153,
   "id": "94ce1074",
   "metadata": {},
   "outputs": [],
   "source": [
    "tele_df['maximum_days_inactive'].fillna(value=max_median,inplace=True)"
   ]
  },
  {
   "cell_type": "code",
   "execution_count": 154,
   "id": "1d0ed0e9",
   "metadata": {},
   "outputs": [
    {
     "data": {
      "text/plain": [
       "0"
      ]
     },
     "execution_count": 154,
     "metadata": {},
     "output_type": "execute_result"
    }
   ],
   "source": [
    "tele_df['maximum_days_inactive'].isnull().sum()"
   ]
  },
  {
   "cell_type": "code",
   "execution_count": 155,
   "id": "b48ea627",
   "metadata": {},
   "outputs": [
    {
     "data": {
      "text/plain": [
       "year                      0\n",
       "customer_id               0\n",
       "phone_no                  0\n",
       "gender                    0\n",
       "age                       0\n",
       "no_of_days_subscribed     0\n",
       "multi_screen              0\n",
       "mail_subscribed           0\n",
       "weekly_mins_watched       0\n",
       "minimum_daily_mins        0\n",
       "maximum_daily_mins        0\n",
       "weekly_max_night_mins     0\n",
       "videos_watched            0\n",
       "maximum_days_inactive     0\n",
       "customer_support_calls    0\n",
       "churn                     0\n",
       "dtype: int64"
      ]
     },
     "execution_count": 155,
     "metadata": {},
     "output_type": "execute_result"
    }
   ],
   "source": [
    "tele_df.isnull().sum()"
   ]
  },
  {
   "cell_type": "markdown",
   "id": "678b7a6b",
   "metadata": {},
   "source": [
    "**5.if data is correptued do preprocessing**\n",
    "\n",
    "- no data is correptued here"
   ]
  },
  {
   "cell_type": "markdown",
   "id": "594e5039",
   "metadata": {},
   "source": [
    "**6.drop id type columns**"
   ]
  },
  {
   "cell_type": "code",
   "execution_count": 156,
   "id": "07b07685",
   "metadata": {},
   "outputs": [
    {
     "data": {
      "text/html": [
       "<div>\n",
       "<style scoped>\n",
       "    .dataframe tbody tr th:only-of-type {\n",
       "        vertical-align: middle;\n",
       "    }\n",
       "\n",
       "    .dataframe tbody tr th {\n",
       "        vertical-align: top;\n",
       "    }\n",
       "\n",
       "    .dataframe thead th {\n",
       "        text-align: right;\n",
       "    }\n",
       "</style>\n",
       "<table border=\"1\" class=\"dataframe\">\n",
       "  <thead>\n",
       "    <tr style=\"text-align: right;\">\n",
       "      <th></th>\n",
       "      <th>year</th>\n",
       "      <th>customer_id</th>\n",
       "      <th>phone_no</th>\n",
       "      <th>gender</th>\n",
       "      <th>age</th>\n",
       "      <th>no_of_days_subscribed</th>\n",
       "      <th>multi_screen</th>\n",
       "      <th>mail_subscribed</th>\n",
       "      <th>weekly_mins_watched</th>\n",
       "      <th>minimum_daily_mins</th>\n",
       "      <th>maximum_daily_mins</th>\n",
       "      <th>weekly_max_night_mins</th>\n",
       "      <th>videos_watched</th>\n",
       "      <th>maximum_days_inactive</th>\n",
       "      <th>customer_support_calls</th>\n",
       "      <th>churn</th>\n",
       "    </tr>\n",
       "  </thead>\n",
       "  <tbody>\n",
       "    <tr>\n",
       "      <th>0</th>\n",
       "      <td>2015</td>\n",
       "      <td>100198</td>\n",
       "      <td>409-8743</td>\n",
       "      <td>Female</td>\n",
       "      <td>36</td>\n",
       "      <td>62</td>\n",
       "      <td>no</td>\n",
       "      <td>no</td>\n",
       "      <td>148.35</td>\n",
       "      <td>12.2</td>\n",
       "      <td>16.81</td>\n",
       "      <td>82</td>\n",
       "      <td>1</td>\n",
       "      <td>4.0</td>\n",
       "      <td>1</td>\n",
       "      <td>0.0</td>\n",
       "    </tr>\n",
       "    <tr>\n",
       "      <th>1</th>\n",
       "      <td>2015</td>\n",
       "      <td>100643</td>\n",
       "      <td>340-5930</td>\n",
       "      <td>Female</td>\n",
       "      <td>39</td>\n",
       "      <td>149</td>\n",
       "      <td>no</td>\n",
       "      <td>no</td>\n",
       "      <td>294.45</td>\n",
       "      <td>7.7</td>\n",
       "      <td>33.37</td>\n",
       "      <td>87</td>\n",
       "      <td>3</td>\n",
       "      <td>3.0</td>\n",
       "      <td>2</td>\n",
       "      <td>0.0</td>\n",
       "    </tr>\n",
       "    <tr>\n",
       "      <th>2</th>\n",
       "      <td>2015</td>\n",
       "      <td>100756</td>\n",
       "      <td>372-3750</td>\n",
       "      <td>Female</td>\n",
       "      <td>65</td>\n",
       "      <td>126</td>\n",
       "      <td>no</td>\n",
       "      <td>no</td>\n",
       "      <td>87.30</td>\n",
       "      <td>11.9</td>\n",
       "      <td>9.89</td>\n",
       "      <td>91</td>\n",
       "      <td>1</td>\n",
       "      <td>4.0</td>\n",
       "      <td>5</td>\n",
       "      <td>1.0</td>\n",
       "    </tr>\n",
       "    <tr>\n",
       "      <th>3</th>\n",
       "      <td>2015</td>\n",
       "      <td>101595</td>\n",
       "      <td>331-4902</td>\n",
       "      <td>Female</td>\n",
       "      <td>24</td>\n",
       "      <td>131</td>\n",
       "      <td>no</td>\n",
       "      <td>yes</td>\n",
       "      <td>321.30</td>\n",
       "      <td>9.5</td>\n",
       "      <td>36.41</td>\n",
       "      <td>102</td>\n",
       "      <td>4</td>\n",
       "      <td>3.0</td>\n",
       "      <td>3</td>\n",
       "      <td>0.0</td>\n",
       "    </tr>\n",
       "    <tr>\n",
       "      <th>4</th>\n",
       "      <td>2015</td>\n",
       "      <td>101653</td>\n",
       "      <td>351-8398</td>\n",
       "      <td>Female</td>\n",
       "      <td>40</td>\n",
       "      <td>191</td>\n",
       "      <td>no</td>\n",
       "      <td>no</td>\n",
       "      <td>243.00</td>\n",
       "      <td>10.9</td>\n",
       "      <td>27.54</td>\n",
       "      <td>83</td>\n",
       "      <td>7</td>\n",
       "      <td>3.0</td>\n",
       "      <td>1</td>\n",
       "      <td>0.0</td>\n",
       "    </tr>\n",
       "    <tr>\n",
       "      <th>...</th>\n",
       "      <td>...</td>\n",
       "      <td>...</td>\n",
       "      <td>...</td>\n",
       "      <td>...</td>\n",
       "      <td>...</td>\n",
       "      <td>...</td>\n",
       "      <td>...</td>\n",
       "      <td>...</td>\n",
       "      <td>...</td>\n",
       "      <td>...</td>\n",
       "      <td>...</td>\n",
       "      <td>...</td>\n",
       "      <td>...</td>\n",
       "      <td>...</td>\n",
       "      <td>...</td>\n",
       "      <td>...</td>\n",
       "    </tr>\n",
       "    <tr>\n",
       "      <th>1995</th>\n",
       "      <td>2015</td>\n",
       "      <td>997132</td>\n",
       "      <td>385-7387</td>\n",
       "      <td>Female</td>\n",
       "      <td>54</td>\n",
       "      <td>75</td>\n",
       "      <td>no</td>\n",
       "      <td>yes</td>\n",
       "      <td>182.25</td>\n",
       "      <td>11.3</td>\n",
       "      <td>20.66</td>\n",
       "      <td>97</td>\n",
       "      <td>5</td>\n",
       "      <td>4.0</td>\n",
       "      <td>2</td>\n",
       "      <td>0.0</td>\n",
       "    </tr>\n",
       "    <tr>\n",
       "      <th>1996</th>\n",
       "      <td>2015</td>\n",
       "      <td>998086</td>\n",
       "      <td>383-9255</td>\n",
       "      <td>Male</td>\n",
       "      <td>45</td>\n",
       "      <td>127</td>\n",
       "      <td>no</td>\n",
       "      <td>no</td>\n",
       "      <td>273.45</td>\n",
       "      <td>9.3</td>\n",
       "      <td>30.99</td>\n",
       "      <td>116</td>\n",
       "      <td>3</td>\n",
       "      <td>3.0</td>\n",
       "      <td>1</td>\n",
       "      <td>0.0</td>\n",
       "    </tr>\n",
       "    <tr>\n",
       "      <th>1997</th>\n",
       "      <td>2015</td>\n",
       "      <td>998474</td>\n",
       "      <td>353-2080</td>\n",
       "      <td>Male</td>\n",
       "      <td>53</td>\n",
       "      <td>94</td>\n",
       "      <td>no</td>\n",
       "      <td>no</td>\n",
       "      <td>128.85</td>\n",
       "      <td>15.6</td>\n",
       "      <td>14.60</td>\n",
       "      <td>110</td>\n",
       "      <td>16</td>\n",
       "      <td>5.0</td>\n",
       "      <td>0</td>\n",
       "      <td>0.0</td>\n",
       "    </tr>\n",
       "    <tr>\n",
       "      <th>1998</th>\n",
       "      <td>2015</td>\n",
       "      <td>998934</td>\n",
       "      <td>359-7788</td>\n",
       "      <td>Male</td>\n",
       "      <td>40</td>\n",
       "      <td>94</td>\n",
       "      <td>no</td>\n",
       "      <td>no</td>\n",
       "      <td>178.05</td>\n",
       "      <td>10.4</td>\n",
       "      <td>20.18</td>\n",
       "      <td>100</td>\n",
       "      <td>6</td>\n",
       "      <td>3.0</td>\n",
       "      <td>3</td>\n",
       "      <td>0.0</td>\n",
       "    </tr>\n",
       "    <tr>\n",
       "      <th>1999</th>\n",
       "      <td>2015</td>\n",
       "      <td>999961</td>\n",
       "      <td>414-1496</td>\n",
       "      <td>Male</td>\n",
       "      <td>37</td>\n",
       "      <td>73</td>\n",
       "      <td>no</td>\n",
       "      <td>no</td>\n",
       "      <td>326.70</td>\n",
       "      <td>10.3</td>\n",
       "      <td>37.03</td>\n",
       "      <td>89</td>\n",
       "      <td>6</td>\n",
       "      <td>3.0</td>\n",
       "      <td>1</td>\n",
       "      <td>1.0</td>\n",
       "    </tr>\n",
       "  </tbody>\n",
       "</table>\n",
       "<p>2000 rows × 16 columns</p>\n",
       "</div>"
      ],
      "text/plain": [
       "      year  customer_id  phone_no  gender  age  no_of_days_subscribed  \\\n",
       "0     2015       100198  409-8743  Female   36                     62   \n",
       "1     2015       100643  340-5930  Female   39                    149   \n",
       "2     2015       100756  372-3750  Female   65                    126   \n",
       "3     2015       101595  331-4902  Female   24                    131   \n",
       "4     2015       101653  351-8398  Female   40                    191   \n",
       "...    ...          ...       ...     ...  ...                    ...   \n",
       "1995  2015       997132  385-7387  Female   54                     75   \n",
       "1996  2015       998086  383-9255    Male   45                    127   \n",
       "1997  2015       998474  353-2080    Male   53                     94   \n",
       "1998  2015       998934  359-7788    Male   40                     94   \n",
       "1999  2015       999961  414-1496    Male   37                     73   \n",
       "\n",
       "     multi_screen mail_subscribed  weekly_mins_watched  minimum_daily_mins  \\\n",
       "0              no              no               148.35                12.2   \n",
       "1              no              no               294.45                 7.7   \n",
       "2              no              no                87.30                11.9   \n",
       "3              no             yes               321.30                 9.5   \n",
       "4              no              no               243.00                10.9   \n",
       "...           ...             ...                  ...                 ...   \n",
       "1995           no             yes               182.25                11.3   \n",
       "1996           no              no               273.45                 9.3   \n",
       "1997           no              no               128.85                15.6   \n",
       "1998           no              no               178.05                10.4   \n",
       "1999           no              no               326.70                10.3   \n",
       "\n",
       "      maximum_daily_mins  weekly_max_night_mins  videos_watched  \\\n",
       "0                  16.81                     82               1   \n",
       "1                  33.37                     87               3   \n",
       "2                   9.89                     91               1   \n",
       "3                  36.41                    102               4   \n",
       "4                  27.54                     83               7   \n",
       "...                  ...                    ...             ...   \n",
       "1995               20.66                     97               5   \n",
       "1996               30.99                    116               3   \n",
       "1997               14.60                    110              16   \n",
       "1998               20.18                    100               6   \n",
       "1999               37.03                     89               6   \n",
       "\n",
       "      maximum_days_inactive  customer_support_calls  churn  \n",
       "0                       4.0                       1    0.0  \n",
       "1                       3.0                       2    0.0  \n",
       "2                       4.0                       5    1.0  \n",
       "3                       3.0                       3    0.0  \n",
       "4                       3.0                       1    0.0  \n",
       "...                     ...                     ...    ...  \n",
       "1995                    4.0                       2    0.0  \n",
       "1996                    3.0                       1    0.0  \n",
       "1997                    5.0                       0    0.0  \n",
       "1998                    3.0                       3    0.0  \n",
       "1999                    3.0                       1    1.0  \n",
       "\n",
       "[2000 rows x 16 columns]"
      ]
     },
     "execution_count": 156,
     "metadata": {},
     "output_type": "execute_result"
    }
   ],
   "source": [
    "tele_df"
   ]
  },
  {
   "cell_type": "code",
   "execution_count": 157,
   "id": "94300f96",
   "metadata": {},
   "outputs": [],
   "source": [
    "tele_df.drop('customer_id',axis=1,inplace=True)"
   ]
  },
  {
   "cell_type": "code",
   "execution_count": 158,
   "id": "f43bff10",
   "metadata": {},
   "outputs": [],
   "source": [
    "tele_df.drop('phone_no',axis=1,inplace=True)"
   ]
  },
  {
   "cell_type": "code",
   "execution_count": 159,
   "id": "d22e8a39",
   "metadata": {},
   "outputs": [
    {
     "data": {
      "text/html": [
       "<div>\n",
       "<style scoped>\n",
       "    .dataframe tbody tr th:only-of-type {\n",
       "        vertical-align: middle;\n",
       "    }\n",
       "\n",
       "    .dataframe tbody tr th {\n",
       "        vertical-align: top;\n",
       "    }\n",
       "\n",
       "    .dataframe thead th {\n",
       "        text-align: right;\n",
       "    }\n",
       "</style>\n",
       "<table border=\"1\" class=\"dataframe\">\n",
       "  <thead>\n",
       "    <tr style=\"text-align: right;\">\n",
       "      <th></th>\n",
       "      <th>year</th>\n",
       "      <th>gender</th>\n",
       "      <th>age</th>\n",
       "      <th>no_of_days_subscribed</th>\n",
       "      <th>multi_screen</th>\n",
       "      <th>mail_subscribed</th>\n",
       "      <th>weekly_mins_watched</th>\n",
       "      <th>minimum_daily_mins</th>\n",
       "      <th>maximum_daily_mins</th>\n",
       "      <th>weekly_max_night_mins</th>\n",
       "      <th>videos_watched</th>\n",
       "      <th>maximum_days_inactive</th>\n",
       "      <th>customer_support_calls</th>\n",
       "      <th>churn</th>\n",
       "    </tr>\n",
       "  </thead>\n",
       "  <tbody>\n",
       "    <tr>\n",
       "      <th>0</th>\n",
       "      <td>2015</td>\n",
       "      <td>Female</td>\n",
       "      <td>36</td>\n",
       "      <td>62</td>\n",
       "      <td>no</td>\n",
       "      <td>no</td>\n",
       "      <td>148.35</td>\n",
       "      <td>12.2</td>\n",
       "      <td>16.81</td>\n",
       "      <td>82</td>\n",
       "      <td>1</td>\n",
       "      <td>4.0</td>\n",
       "      <td>1</td>\n",
       "      <td>0.0</td>\n",
       "    </tr>\n",
       "    <tr>\n",
       "      <th>1</th>\n",
       "      <td>2015</td>\n",
       "      <td>Female</td>\n",
       "      <td>39</td>\n",
       "      <td>149</td>\n",
       "      <td>no</td>\n",
       "      <td>no</td>\n",
       "      <td>294.45</td>\n",
       "      <td>7.7</td>\n",
       "      <td>33.37</td>\n",
       "      <td>87</td>\n",
       "      <td>3</td>\n",
       "      <td>3.0</td>\n",
       "      <td>2</td>\n",
       "      <td>0.0</td>\n",
       "    </tr>\n",
       "    <tr>\n",
       "      <th>2</th>\n",
       "      <td>2015</td>\n",
       "      <td>Female</td>\n",
       "      <td>65</td>\n",
       "      <td>126</td>\n",
       "      <td>no</td>\n",
       "      <td>no</td>\n",
       "      <td>87.30</td>\n",
       "      <td>11.9</td>\n",
       "      <td>9.89</td>\n",
       "      <td>91</td>\n",
       "      <td>1</td>\n",
       "      <td>4.0</td>\n",
       "      <td>5</td>\n",
       "      <td>1.0</td>\n",
       "    </tr>\n",
       "    <tr>\n",
       "      <th>3</th>\n",
       "      <td>2015</td>\n",
       "      <td>Female</td>\n",
       "      <td>24</td>\n",
       "      <td>131</td>\n",
       "      <td>no</td>\n",
       "      <td>yes</td>\n",
       "      <td>321.30</td>\n",
       "      <td>9.5</td>\n",
       "      <td>36.41</td>\n",
       "      <td>102</td>\n",
       "      <td>4</td>\n",
       "      <td>3.0</td>\n",
       "      <td>3</td>\n",
       "      <td>0.0</td>\n",
       "    </tr>\n",
       "    <tr>\n",
       "      <th>4</th>\n",
       "      <td>2015</td>\n",
       "      <td>Female</td>\n",
       "      <td>40</td>\n",
       "      <td>191</td>\n",
       "      <td>no</td>\n",
       "      <td>no</td>\n",
       "      <td>243.00</td>\n",
       "      <td>10.9</td>\n",
       "      <td>27.54</td>\n",
       "      <td>83</td>\n",
       "      <td>7</td>\n",
       "      <td>3.0</td>\n",
       "      <td>1</td>\n",
       "      <td>0.0</td>\n",
       "    </tr>\n",
       "    <tr>\n",
       "      <th>...</th>\n",
       "      <td>...</td>\n",
       "      <td>...</td>\n",
       "      <td>...</td>\n",
       "      <td>...</td>\n",
       "      <td>...</td>\n",
       "      <td>...</td>\n",
       "      <td>...</td>\n",
       "      <td>...</td>\n",
       "      <td>...</td>\n",
       "      <td>...</td>\n",
       "      <td>...</td>\n",
       "      <td>...</td>\n",
       "      <td>...</td>\n",
       "      <td>...</td>\n",
       "    </tr>\n",
       "    <tr>\n",
       "      <th>1995</th>\n",
       "      <td>2015</td>\n",
       "      <td>Female</td>\n",
       "      <td>54</td>\n",
       "      <td>75</td>\n",
       "      <td>no</td>\n",
       "      <td>yes</td>\n",
       "      <td>182.25</td>\n",
       "      <td>11.3</td>\n",
       "      <td>20.66</td>\n",
       "      <td>97</td>\n",
       "      <td>5</td>\n",
       "      <td>4.0</td>\n",
       "      <td>2</td>\n",
       "      <td>0.0</td>\n",
       "    </tr>\n",
       "    <tr>\n",
       "      <th>1996</th>\n",
       "      <td>2015</td>\n",
       "      <td>Male</td>\n",
       "      <td>45</td>\n",
       "      <td>127</td>\n",
       "      <td>no</td>\n",
       "      <td>no</td>\n",
       "      <td>273.45</td>\n",
       "      <td>9.3</td>\n",
       "      <td>30.99</td>\n",
       "      <td>116</td>\n",
       "      <td>3</td>\n",
       "      <td>3.0</td>\n",
       "      <td>1</td>\n",
       "      <td>0.0</td>\n",
       "    </tr>\n",
       "    <tr>\n",
       "      <th>1997</th>\n",
       "      <td>2015</td>\n",
       "      <td>Male</td>\n",
       "      <td>53</td>\n",
       "      <td>94</td>\n",
       "      <td>no</td>\n",
       "      <td>no</td>\n",
       "      <td>128.85</td>\n",
       "      <td>15.6</td>\n",
       "      <td>14.60</td>\n",
       "      <td>110</td>\n",
       "      <td>16</td>\n",
       "      <td>5.0</td>\n",
       "      <td>0</td>\n",
       "      <td>0.0</td>\n",
       "    </tr>\n",
       "    <tr>\n",
       "      <th>1998</th>\n",
       "      <td>2015</td>\n",
       "      <td>Male</td>\n",
       "      <td>40</td>\n",
       "      <td>94</td>\n",
       "      <td>no</td>\n",
       "      <td>no</td>\n",
       "      <td>178.05</td>\n",
       "      <td>10.4</td>\n",
       "      <td>20.18</td>\n",
       "      <td>100</td>\n",
       "      <td>6</td>\n",
       "      <td>3.0</td>\n",
       "      <td>3</td>\n",
       "      <td>0.0</td>\n",
       "    </tr>\n",
       "    <tr>\n",
       "      <th>1999</th>\n",
       "      <td>2015</td>\n",
       "      <td>Male</td>\n",
       "      <td>37</td>\n",
       "      <td>73</td>\n",
       "      <td>no</td>\n",
       "      <td>no</td>\n",
       "      <td>326.70</td>\n",
       "      <td>10.3</td>\n",
       "      <td>37.03</td>\n",
       "      <td>89</td>\n",
       "      <td>6</td>\n",
       "      <td>3.0</td>\n",
       "      <td>1</td>\n",
       "      <td>1.0</td>\n",
       "    </tr>\n",
       "  </tbody>\n",
       "</table>\n",
       "<p>2000 rows × 14 columns</p>\n",
       "</div>"
      ],
      "text/plain": [
       "      year  gender  age  no_of_days_subscribed multi_screen mail_subscribed  \\\n",
       "0     2015  Female   36                     62           no              no   \n",
       "1     2015  Female   39                    149           no              no   \n",
       "2     2015  Female   65                    126           no              no   \n",
       "3     2015  Female   24                    131           no             yes   \n",
       "4     2015  Female   40                    191           no              no   \n",
       "...    ...     ...  ...                    ...          ...             ...   \n",
       "1995  2015  Female   54                     75           no             yes   \n",
       "1996  2015    Male   45                    127           no              no   \n",
       "1997  2015    Male   53                     94           no              no   \n",
       "1998  2015    Male   40                     94           no              no   \n",
       "1999  2015    Male   37                     73           no              no   \n",
       "\n",
       "      weekly_mins_watched  minimum_daily_mins  maximum_daily_mins  \\\n",
       "0                  148.35                12.2               16.81   \n",
       "1                  294.45                 7.7               33.37   \n",
       "2                   87.30                11.9                9.89   \n",
       "3                  321.30                 9.5               36.41   \n",
       "4                  243.00                10.9               27.54   \n",
       "...                   ...                 ...                 ...   \n",
       "1995               182.25                11.3               20.66   \n",
       "1996               273.45                 9.3               30.99   \n",
       "1997               128.85                15.6               14.60   \n",
       "1998               178.05                10.4               20.18   \n",
       "1999               326.70                10.3               37.03   \n",
       "\n",
       "      weekly_max_night_mins  videos_watched  maximum_days_inactive  \\\n",
       "0                        82               1                    4.0   \n",
       "1                        87               3                    3.0   \n",
       "2                        91               1                    4.0   \n",
       "3                       102               4                    3.0   \n",
       "4                        83               7                    3.0   \n",
       "...                     ...             ...                    ...   \n",
       "1995                     97               5                    4.0   \n",
       "1996                    116               3                    3.0   \n",
       "1997                    110              16                    5.0   \n",
       "1998                    100               6                    3.0   \n",
       "1999                     89               6                    3.0   \n",
       "\n",
       "      customer_support_calls  churn  \n",
       "0                          1    0.0  \n",
       "1                          2    0.0  \n",
       "2                          5    1.0  \n",
       "3                          3    0.0  \n",
       "4                          1    0.0  \n",
       "...                      ...    ...  \n",
       "1995                       2    0.0  \n",
       "1996                       1    0.0  \n",
       "1997                       0    0.0  \n",
       "1998                       3    0.0  \n",
       "1999                       1    1.0  \n",
       "\n",
       "[2000 rows x 14 columns]"
      ]
     },
     "execution_count": 159,
     "metadata": {},
     "output_type": "execute_result"
    }
   ],
   "source": [
    "tele_df"
   ]
  },
  {
   "cell_type": "markdown",
   "id": "51fe7b5d",
   "metadata": {},
   "source": [
    "**7.categorical column analysis**\n",
    "\n",
    "- frequency table\n",
    "\n",
    "- bar charts\n",
    "\n",
    "- pie charts"
   ]
  },
  {
   "cell_type": "code",
   "execution_count": 160,
   "id": "9fa361d2",
   "metadata": {},
   "outputs": [
    {
     "data": {
      "text/plain": [
       "Male      1077\n",
       "Female     923\n",
       "Name: gender, dtype: int64"
      ]
     },
     "execution_count": 160,
     "metadata": {},
     "output_type": "execute_result"
    }
   ],
   "source": [
    "tele_df['gender'].value_counts()"
   ]
  },
  {
   "cell_type": "code",
   "execution_count": 161,
   "id": "34fefc4a",
   "metadata": {},
   "outputs": [],
   "source": [
    "keys=tele_df['gender'].value_counts().keys()"
   ]
  },
  {
   "cell_type": "code",
   "execution_count": 162,
   "id": "f771636e",
   "metadata": {},
   "outputs": [],
   "source": [
    "values=tele_df['gender'].value_counts().values"
   ]
  },
  {
   "cell_type": "code",
   "execution_count": 163,
   "id": "ecf1f573",
   "metadata": {},
   "outputs": [
    {
     "data": {
      "text/plain": [
       "Index(['Male', 'Female'], dtype='object')"
      ]
     },
     "execution_count": 163,
     "metadata": {},
     "output_type": "execute_result"
    }
   ],
   "source": [
    "keys"
   ]
  },
  {
   "cell_type": "code",
   "execution_count": 164,
   "id": "c21cd3a0",
   "metadata": {},
   "outputs": [
    {
     "data": {
      "text/plain": [
       "array([1077,  923], dtype=int64)"
      ]
     },
     "execution_count": 164,
     "metadata": {},
     "output_type": "execute_result"
    }
   ],
   "source": [
    "values"
   ]
  },
  {
   "cell_type": "code",
   "execution_count": 165,
   "id": "19f5b552",
   "metadata": {
    "scrolled": true
   },
   "outputs": [
    {
     "data": {
      "text/plain": [
       "<BarContainer object of 2 artists>"
      ]
     },
     "execution_count": 165,
     "metadata": {},
     "output_type": "execute_result"
    },
    {
     "data": {
      "image/png": "[encoded data removed]",
      "text/plain": [
       "<Figure size 640x480 with 1 Axes>"
      ]
     },
     "metadata": {},
     "output_type": "display_data"
    }
   ],
   "source": [
    "plt.bar(keys,values)"
   ]
  },
  {
   "cell_type": "code",
   "execution_count": 166,
   "id": "46e40dad",
   "metadata": {},
   "outputs": [
    {
     "data": {
      "text/plain": [
       "([<matplotlib.patches.Wedge at 0x249c3aefa30>,\n",
       "  <matplotlib.patches.Wedge at 0x249c3aefcd0>],\n",
       " [Text(-0.1327223293818725, 1.091963728007231, 'Male'),\n",
       "  Text(0.1327223293818726, -1.091963728007231, 'Female')])"
      ]
     },
     "execution_count": 166,
     "metadata": {},
     "output_type": "execute_result"
    },
    {
     "data": {
      "image/png": "[encoded data removed]",
      "text/plain": [
       "<Figure size 640x480 with 1 Axes>"
      ]
     },
     "metadata": {},
     "output_type": "display_data"
    }
   ],
   "source": [
    "plt.pie(values,labels=keys)"
   ]
  },
  {
   "cell_type": "code",
   "execution_count": 167,
   "id": "cf3318a9",
   "metadata": {},
   "outputs": [
    {
     "data": {
      "text/plain": [
       "<Axes: xlabel='gender', ylabel='count'>"
      ]
     },
     "execution_count": 167,
     "metadata": {},
     "output_type": "execute_result"
    },
    {
     "data": {
      "image/png": "[encoded data removed]",
      "text/plain": [
       "<Figure size 640x480 with 1 Axes>"
      ]
     },
     "metadata": {},
     "output_type": "display_data"
    }
   ],
   "source": [
    "sns.countplot(data=tele_df,x='gender',order=keys)"
   ]
  },
  {
   "cell_type": "code",
   "execution_count": 168,
   "id": "c1c1823c",
   "metadata": {},
   "outputs": [
    {
     "data": {
      "text/plain": [
       "no     1802\n",
       "yes     198\n",
       "Name: multi_screen, dtype: int64"
      ]
     },
     "execution_count": 168,
     "metadata": {},
     "output_type": "execute_result"
    }
   ],
   "source": [
    "tele_df['multi_screen'].value_counts()"
   ]
  },
  {
   "cell_type": "code",
   "execution_count": 169,
   "id": "f086e26a",
   "metadata": {},
   "outputs": [],
   "source": [
    "keys1=tele_df['multi_screen'].value_counts().keys()\n",
    "value1=tele_df['multi_screen'].value_counts().values"
   ]
  },
  {
   "cell_type": "code",
   "execution_count": 170,
   "id": "3daa0d37",
   "metadata": {
    "scrolled": true
   },
   "outputs": [
    {
     "data": {
      "text/plain": [
       "<BarContainer object of 2 artists>"
      ]
     },
     "execution_count": 170,
     "metadata": {},
     "output_type": "execute_result"
    },
    {
     "data": {
      "image/png": "[encoded data removed]",
      "text/plain": [
       "<Figure size 640x480 with 1 Axes>"
      ]
     },
     "metadata": {},
     "output_type": "display_data"
    }
   ],
   "source": [
    "plt.bar(keys1,value1)"
   ]
  },
  {
   "cell_type": "code",
   "execution_count": 171,
   "id": "763f4505",
   "metadata": {},
   "outputs": [
    {
     "data": {
      "text/plain": [
       "([<matplotlib.patches.Wedge at 0x249c39f0700>,\n",
       "  <matplotlib.patches.Wedge at 0x249c39f0610>],\n",
       " [Text(-1.0472249138457685, 0.3366303311062784, 'no'),\n",
       "  Text(1.0472249374839706, -0.3366302575700735, 'yes')])"
      ]
     },
     "execution_count": 171,
     "metadata": {},
     "output_type": "execute_result"
    },
    {
     "data": {
      "image/png": "[encoded data removed]",
      "text/plain": [
       "<Figure size 640x480 with 1 Axes>"
      ]
     },
     "metadata": {},
     "output_type": "display_data"
    }
   ],
   "source": [
    "plt.pie(value1,labels=keys1)"
   ]
  },
  {
   "cell_type": "code",
   "execution_count": 172,
   "id": "15bbc892",
   "metadata": {},
   "outputs": [
    {
     "data": {
      "text/plain": [
       "<Axes: xlabel='multi_screen', ylabel='count'>"
      ]
     },
     "execution_count": 172,
     "metadata": {},
     "output_type": "execute_result"
    },
    {
     "data": {
      "image/png": "[encoded data removed]",
      "text/plain": [
       "<Figure size 640x480 with 1 Axes>"
      ]
     },
     "metadata": {},
     "output_type": "display_data"
    }
   ],
   "source": [
    "sns.countplot(data=tele_df,x='multi_screen',order=keys1)"
   ]
  },
  {
   "cell_type": "code",
   "execution_count": 173,
   "id": "98a06a51",
   "metadata": {},
   "outputs": [
    {
     "data": {
      "image/png": "[encoded data removed]",
      "text/plain": [
       "<Figure size 1000x900 with 6 Axes>"
      ]
     },
     "metadata": {},
     "output_type": "display_data"
    }
   ],
   "source": [
    "plt.figure(figsize=(10,9))\n",
    "plt.subplot(4,2,1)\n",
    "plt.title('gender_bar')\n",
    "plt.bar(keys,values)\n",
    "plt.subplot(4,2,2)\n",
    "plt.title('gender_pie')\n",
    "plt.pie(values,labels=keys)\n",
    "plt.subplot(4,2,3)\n",
    "plt.title('gender_count')\n",
    "sns.countplot(data=tele_df,x='gender',order=keys)\n",
    "plt.subplot(4,2,4)\n",
    "plt.title('multi_screen_bar')\n",
    "plt.bar(keys1,value1)\n",
    "plt.subplot(4,2,5)\n",
    "plt.title('multi_screen_pie')\n",
    "plt.pie(value1,labels=keys1)\n",
    "plt.subplot(4,2,6)\n",
    "plt.title('multi_screen_count')\n",
    "sns.countplot(data=tele_df,x='multi_screen',order=keys1)\n",
    "plt.show()"
   ]
  },
  {
   "cell_type": "markdown",
   "id": "fdbb6a72",
   "metadata": {},
   "source": [
    "**8.numerical column analysis**\n",
    "\n",
    "- histogram\n",
    "\n",
    "- distribution lot\n",
    "\n",
    "- box plot"
   ]
  },
  {
   "cell_type": "code",
   "execution_count": 174,
   "id": "559255fe",
   "metadata": {
    "scrolled": true
   },
   "outputs": [
    {
     "data": {
      "image/png": "[encoded data removed]",
      "text/plain": [
       "<Figure size 640x480 with 1 Axes>"
      ]
     },
     "metadata": {},
     "output_type": "display_data"
    }
   ],
   "source": [
    "count,intervals,n=plt.hist(tele_df['age'],bins=50)"
   ]
  },
  {
   "cell_type": "code",
   "execution_count": 175,
   "id": "46595c59",
   "metadata": {
    "scrolled": false
   },
   "outputs": [
    {
     "data": {
      "text/plain": [
       "{'whiskers': [<matplotlib.lines.Line2D at 0x249c3e27ac0>,\n",
       "  <matplotlib.lines.Line2D at 0x249c3e27d60>],\n",
       " 'caps': [<matplotlib.lines.Line2D at 0x249c3e50040>,\n",
       "  <matplotlib.lines.Line2D at 0x249c3e502e0>],\n",
       " 'boxes': [<matplotlib.lines.Line2D at 0x249c3e27820>],\n",
       " 'medians': [<matplotlib.lines.Line2D at 0x249c3e50580>],\n",
       " 'fliers': [<matplotlib.lines.Line2D at 0x249c3e50820>],\n",
       " 'means': []}"
      ]
     },
     "execution_count": 175,
     "metadata": {},
     "output_type": "execute_result"
    },
    {
     "data": {
      "image/png": "[encoded data removed]",
      "text/plain": [
       "<Figure size 640x480 with 1 Axes>"
      ]
     },
     "metadata": {},
     "output_type": "display_data"
    }
   ],
   "source": [
    "plt.boxplot(tele_df['age'])"
   ]
  },
  {
   "cell_type": "code",
   "execution_count": 176,
   "id": "7048ed95",
   "metadata": {},
   "outputs": [
    {
     "data": {
      "text/plain": [
       "38.6905"
      ]
     },
     "execution_count": 176,
     "metadata": {},
     "output_type": "execute_result"
    }
   ],
   "source": [
    "tele_df['age'].mean()"
   ]
  },
  {
   "cell_type": "code",
   "execution_count": 177,
   "id": "a445a4d6",
   "metadata": {},
   "outputs": [
    {
     "data": {
      "text/plain": [
       "37.0"
      ]
     },
     "execution_count": 177,
     "metadata": {},
     "output_type": "execute_result"
    }
   ],
   "source": [
    "tele_df['age'].median()"
   ]
  },
  {
   "cell_type": "code",
   "execution_count": 178,
   "id": "44c2bcbf",
   "metadata": {},
   "outputs": [
    {
     "data": {
      "text/plain": [
       "0    36\n",
       "Name: age, dtype: int64"
      ]
     },
     "execution_count": 178,
     "metadata": {},
     "output_type": "execute_result"
    }
   ],
   "source": [
    "tele_df['age'].mode()"
   ]
  },
  {
   "cell_type": "code",
   "execution_count": 179,
   "id": "233c7424",
   "metadata": {},
   "outputs": [
    {
     "data": {
      "text/plain": [
       "10.206409513025305"
      ]
     },
     "execution_count": 179,
     "metadata": {},
     "output_type": "execute_result"
    }
   ],
   "source": [
    "tele_df['age'].std()"
   ]
  },
  {
   "cell_type": "code",
   "execution_count": 180,
   "id": "2993a082",
   "metadata": {},
   "outputs": [
    {
     "data": {
      "text/plain": [
       "18"
      ]
     },
     "execution_count": 180,
     "metadata": {},
     "output_type": "execute_result"
    }
   ],
   "source": [
    "tele_df['age'].min()"
   ]
  },
  {
   "cell_type": "code",
   "execution_count": 181,
   "id": "35c3c5ab",
   "metadata": {},
   "outputs": [
    {
     "data": {
      "text/plain": [
       "82"
      ]
     },
     "execution_count": 181,
     "metadata": {},
     "output_type": "execute_result"
    }
   ],
   "source": [
    "tele_df['age'].max()"
   ]
  },
  {
   "cell_type": "code",
   "execution_count": 182,
   "id": "e3af3fc8",
   "metadata": {},
   "outputs": [
    {
     "data": {
      "text/plain": [
       "2000"
      ]
     },
     "execution_count": 182,
     "metadata": {},
     "output_type": "execute_result"
    }
   ],
   "source": [
    "len(tele_df['age'])"
   ]
  },
  {
   "cell_type": "code",
   "execution_count": 183,
   "id": "b20e0dec",
   "metadata": {},
   "outputs": [
    {
     "data": {
      "text/plain": [
       "32.0"
      ]
     },
     "execution_count": 183,
     "metadata": {},
     "output_type": "execute_result"
    }
   ],
   "source": [
    "age=tele_df['age']\n",
    "np.percentile(age,25)"
   ]
  },
  {
   "cell_type": "code",
   "execution_count": 184,
   "id": "2eef449a",
   "metadata": {},
   "outputs": [
    {
     "data": {
      "text/plain": [
       "37.0"
      ]
     },
     "execution_count": 184,
     "metadata": {},
     "output_type": "execute_result"
    }
   ],
   "source": [
    "age=tele_df['age']\n",
    "np.percentile(age,50)"
   ]
  },
  {
   "cell_type": "code",
   "execution_count": 185,
   "id": "f01f8ac2",
   "metadata": {},
   "outputs": [
    {
     "data": {
      "text/plain": [
       "44.0"
      ]
     },
     "execution_count": 185,
     "metadata": {},
     "output_type": "execute_result"
    }
   ],
   "source": [
    "age=tele_df['age']\n",
    "np.percentile(age,75)"
   ]
  },
  {
   "cell_type": "code",
   "execution_count": 186,
   "id": "6c00d910",
   "metadata": {},
   "outputs": [
    {
     "data": {
      "text/plain": [
       "44.0"
      ]
     },
     "execution_count": 186,
     "metadata": {},
     "output_type": "execute_result"
    }
   ],
   "source": [
    "age=tele_df['age']\n",
    "np.quantile(age,0.75)"
   ]
  },
  {
   "cell_type": "code",
   "execution_count": 187,
   "id": "a7836314",
   "metadata": {},
   "outputs": [
    {
     "data": {
      "text/plain": [
       "32.0"
      ]
     },
     "execution_count": 187,
     "metadata": {},
     "output_type": "execute_result"
    }
   ],
   "source": [
    "age=tele_df['age']\n",
    "np.quantile(age,0.25)"
   ]
  },
  {
   "cell_type": "code",
   "execution_count": 188,
   "id": "a9120e93",
   "metadata": {},
   "outputs": [
    {
     "data": {
      "text/plain": [
       "37.0"
      ]
     },
     "execution_count": 188,
     "metadata": {},
     "output_type": "execute_result"
    }
   ],
   "source": [
    "age=tele_df['age']\n",
    "np.quantile(age,0.50)"
   ]
  },
  {
   "cell_type": "markdown",
   "id": "4b8977ca",
   "metadata": {},
   "source": [
    "**9.outlier and non outliers**"
   ]
  },
  {
   "cell_type": "code",
   "execution_count": 189,
   "id": "9f4dc263",
   "metadata": {},
   "outputs": [
    {
     "data": {
      "text/plain": [
       "2000"
      ]
     },
     "execution_count": 189,
     "metadata": {},
     "output_type": "execute_result"
    }
   ],
   "source": [
    "len(tele_df['age'])"
   ]
  },
  {
   "cell_type": "code",
   "execution_count": 190,
   "id": "86100660",
   "metadata": {},
   "outputs": [
    {
     "name": "stdout",
     "output_type": "stream",
     "text": [
      "no of outliers 1823\n"
     ]
    }
   ],
   "source": [
    "teledata=tele_df['age']\n",
    "q1=round(np.quantile(teledata,0.25),2)\n",
    "q3=round(np.quantile(teledata,0.75),2)\n",
    "IQR=q3-q1\n",
    "lb=q1-1.5*IQR\n",
    "ub=q3-1.5*IQR\n",
    "con1=tele_df['age']<lb\n",
    "con2=tele_df['age']>ub\n",
    "con3=con1|con2\n",
    "n=len(tele_df[con3])\n",
    "print(f'no of outliers {n}')\n",
    "outliers_df=tele_df[con3]"
   ]
  },
  {
   "cell_type": "code",
   "execution_count": 191,
   "id": "dde062f8",
   "metadata": {},
   "outputs": [
    {
     "name": "stdout",
     "output_type": "stream",
     "text": [
      "no of non outliers 2000\n"
     ]
    }
   ],
   "source": [
    "teledata=tele_df['age']\n",
    "q1=round(np.quantile(teledata,0.25),2)\n",
    "q3=round(np.quantile(teledata,0.75),2)\n",
    "IQR=q3-q1\n",
    "lb=q1-1.5*IQR\n",
    "ub=q3-1.5*IQR\n",
    "con1=tele_df['age']>lb\n",
    "con2=tele_df['age']<ub\n",
    "con3=con1|con2\n",
    "n1=len(tele_df[con3])\n",
    "print(f'no of non outliers {n1}')\n",
    "non_outlier_df=tele_df[con3]"
   ]
  },
  {
   "cell_type": "code",
   "execution_count": 192,
   "id": "9c756018",
   "metadata": {},
   "outputs": [
    {
     "data": {
      "text/plain": [
       "{'whiskers': [<matplotlib.lines.Line2D at 0x249c3fd7a00>,\n",
       "  <matplotlib.lines.Line2D at 0x249c3fd7ca0>],\n",
       " 'caps': [<matplotlib.lines.Line2D at 0x249c3fd7f40>,\n",
       "  <matplotlib.lines.Line2D at 0x249c4004220>],\n",
       " 'boxes': [<matplotlib.lines.Line2D at 0x249c3fd7760>],\n",
       " 'medians': [<matplotlib.lines.Line2D at 0x249c3e53880>],\n",
       " 'fliers': [<matplotlib.lines.Line2D at 0x249c3dffc10>],\n",
       " 'means': []}"
      ]
     },
     "execution_count": 192,
     "metadata": {},
     "output_type": "execute_result"
    },
    {
     "data": {
      "image/png": "[encoded data removed]",
      "text/plain": [
       "<Figure size 640x480 with 1 Axes>"
      ]
     },
     "metadata": {},
     "output_type": "display_data"
    }
   ],
   "source": [
    "plt.boxplot(outliers_df['age'])"
   ]
  },
  {
   "cell_type": "code",
   "execution_count": 193,
   "id": "67db948e",
   "metadata": {},
   "outputs": [
    {
     "data": {
      "text/plain": [
       "{'whiskers': [<matplotlib.lines.Line2D at 0x249c405a3b0>,\n",
       "  <matplotlib.lines.Line2D at 0x249c405a650>],\n",
       " 'caps': [<matplotlib.lines.Line2D at 0x249c405a8f0>,\n",
       "  <matplotlib.lines.Line2D at 0x249c405ab90>],\n",
       " 'boxes': [<matplotlib.lines.Line2D at 0x249c405a110>],\n",
       " 'medians': [<matplotlib.lines.Line2D at 0x249c405ae30>],\n",
       " 'fliers': [<matplotlib.lines.Line2D at 0x249c405b0d0>],\n",
       " 'means': []}"
      ]
     },
     "execution_count": 193,
     "metadata": {},
     "output_type": "execute_result"
    },
    {
     "data": {
      "image/png": "[encoded data removed]",
      "text/plain": [
       "<Figure size 640x480 with 1 Axes>"
      ]
     },
     "metadata": {},
     "output_type": "display_data"
    }
   ],
   "source": [
    "plt.boxplot(non_outlier_df['age'])"
   ]
  },
  {
   "cell_type": "code",
   "execution_count": 194,
   "id": "a3ad9acc",
   "metadata": {},
   "outputs": [
    {
     "data": {
      "text/plain": [
       "(array([391., 461., 469., 208., 132.,  68.,  47.,  29.,  14.,   4.]),\n",
       " array([27. , 32.5, 38. , 43.5, 49. , 54.5, 60. , 65.5, 71. , 76.5, 82. ]),\n",
       " <BarContainer object of 10 artists>)"
      ]
     },
     "execution_count": 194,
     "metadata": {},
     "output_type": "execute_result"
    },
    {
     "data": {
      "image/png": "[encoded data removed]",
      "text/plain": [
       "<Figure size 640x480 with 1 Axes>"
      ]
     },
     "metadata": {},
     "output_type": "display_data"
    }
   ],
   "source": [
    "plt.hist(outliers_df['age'])"
   ]
  },
  {
   "cell_type": "code",
   "execution_count": 195,
   "id": "a941f100",
   "metadata": {},
   "outputs": [
    {
     "data": {
      "text/plain": [
       "(array([ 96., 310., 623., 469., 241., 124.,  74.,  41.,  17.,   5.]),\n",
       " array([18. , 24.4, 30.8, 37.2, 43.6, 50. , 56.4, 62.8, 69.2, 75.6, 82. ]),\n",
       " <BarContainer object of 10 artists>)"
      ]
     },
     "execution_count": 195,
     "metadata": {},
     "output_type": "execute_result"
    },
    {
     "data": {
      "image/png": "[encoded data removed]",
      "text/plain": [
       "<Figure size 640x480 with 1 Axes>"
      ]
     },
     "metadata": {},
     "output_type": "display_data"
    }
   ],
   "source": [
    "plt.hist(non_outlier_df['age'])"
   ]
  },
  {
   "cell_type": "markdown",
   "id": "bf97e4e4",
   "metadata": {},
   "source": [
    "- imputing outliers with median"
   ]
  },
  {
   "cell_type": "code",
   "execution_count": 199,
   "id": "3a7b5097",
   "metadata": {},
   "outputs": [],
   "source": [
    "age_data=tele_df['age']\n",
    "q1=round(np.quantile(age_data,0.25),2)\n",
    "q3=round(np.quantile(age_data,0.75),2)\n",
    "IQR=q3-q1\n",
    "lb=q1-1.5*IQR\n",
    "ub=q3+1.5*IQR\n",
    "median=age_data.median()\n",
    "new_data=[]\n",
    "for i in age_data:\n",
    "    if i<lb or i>ub:\n",
    "        new_data.append(median)\n",
    "    else:\n",
    "        new_data.append(i)\n",
    "tele_df['age']=new_data\n"
   ]
  },
  {
   "cell_type": "code",
   "execution_count": 200,
   "id": "5e164ed7",
   "metadata": {},
   "outputs": [
    {
     "name": "stdout",
     "output_type": "stream",
     "text": [
      "no of outliers 0\n"
     ]
    }
   ],
   "source": [
    "con1=tele_df['age']<lb\n",
    "con2=tele_df['age']>ub\n",
    "con3=con1|con2\n",
    "n=len(tele_df[con3])\n",
    "print(f'no of outliers {n}')\n",
    "outliers_df=tele_df[con3]"
   ]
  },
  {
   "cell_type": "markdown",
   "id": "5339a40f",
   "metadata": {},
   "source": [
    "**10.correlation between numerical columns**"
   ]
  },
  {
   "cell_type": "code",
   "execution_count": 201,
   "id": "178d3954",
   "metadata": {},
   "outputs": [
    {
     "data": {
      "text/html": [
       "<div>\n",
       "<style scoped>\n",
       "    .dataframe tbody tr th:only-of-type {\n",
       "        vertical-align: middle;\n",
       "    }\n",
       "\n",
       "    .dataframe tbody tr th {\n",
       "        vertical-align: top;\n",
       "    }\n",
       "\n",
       "    .dataframe thead th {\n",
       "        text-align: right;\n",
       "    }\n",
       "</style>\n",
       "<table border=\"1\" class=\"dataframe\">\n",
       "  <thead>\n",
       "    <tr style=\"text-align: right;\">\n",
       "      <th></th>\n",
       "      <th>year</th>\n",
       "      <th>age</th>\n",
       "      <th>no_of_days_subscribed</th>\n",
       "      <th>weekly_mins_watched</th>\n",
       "      <th>minimum_daily_mins</th>\n",
       "      <th>maximum_daily_mins</th>\n",
       "      <th>weekly_max_night_mins</th>\n",
       "      <th>videos_watched</th>\n",
       "      <th>maximum_days_inactive</th>\n",
       "      <th>customer_support_calls</th>\n",
       "      <th>churn</th>\n",
       "    </tr>\n",
       "  </thead>\n",
       "  <tbody>\n",
       "    <tr>\n",
       "      <th>year</th>\n",
       "      <td>NaN</td>\n",
       "      <td>NaN</td>\n",
       "      <td>NaN</td>\n",
       "      <td>NaN</td>\n",
       "      <td>NaN</td>\n",
       "      <td>NaN</td>\n",
       "      <td>NaN</td>\n",
       "      <td>NaN</td>\n",
       "      <td>NaN</td>\n",
       "      <td>NaN</td>\n",
       "      <td>NaN</td>\n",
       "    </tr>\n",
       "    <tr>\n",
       "      <th>age</th>\n",
       "      <td>NaN</td>\n",
       "      <td>1.000000</td>\n",
       "      <td>0.017936</td>\n",
       "      <td>0.001952</td>\n",
       "      <td>0.019840</td>\n",
       "      <td>0.001965</td>\n",
       "      <td>0.040461</td>\n",
       "      <td>0.014284</td>\n",
       "      <td>0.032164</td>\n",
       "      <td>-0.004074</td>\n",
       "      <td>-0.009296</td>\n",
       "    </tr>\n",
       "    <tr>\n",
       "      <th>no_of_days_subscribed</th>\n",
       "      <td>NaN</td>\n",
       "      <td>0.017936</td>\n",
       "      <td>1.000000</td>\n",
       "      <td>0.000657</td>\n",
       "      <td>0.016329</td>\n",
       "      <td>0.000652</td>\n",
       "      <td>-0.001967</td>\n",
       "      <td>0.019414</td>\n",
       "      <td>0.019338</td>\n",
       "      <td>0.013419</td>\n",
       "      <td>0.002517</td>\n",
       "    </tr>\n",
       "    <tr>\n",
       "      <th>weekly_mins_watched</th>\n",
       "      <td>NaN</td>\n",
       "      <td>0.001952</td>\n",
       "      <td>0.000657</td>\n",
       "      <td>1.000000</td>\n",
       "      <td>-0.017332</td>\n",
       "      <td>1.000000</td>\n",
       "      <td>0.037715</td>\n",
       "      <td>0.018619</td>\n",
       "      <td>-0.014018</td>\n",
       "      <td>-0.036848</td>\n",
       "      <td>0.162876</td>\n",
       "    </tr>\n",
       "    <tr>\n",
       "      <th>minimum_daily_mins</th>\n",
       "      <td>NaN</td>\n",
       "      <td>0.019840</td>\n",
       "      <td>0.016329</td>\n",
       "      <td>-0.017332</td>\n",
       "      <td>1.000000</td>\n",
       "      <td>-0.017330</td>\n",
       "      <td>0.008430</td>\n",
       "      <td>0.050739</td>\n",
       "      <td>0.923740</td>\n",
       "      <td>-0.003943</td>\n",
       "      <td>0.066646</td>\n",
       "    </tr>\n",
       "    <tr>\n",
       "      <th>maximum_daily_mins</th>\n",
       "      <td>NaN</td>\n",
       "      <td>0.001965</td>\n",
       "      <td>0.000652</td>\n",
       "      <td>1.000000</td>\n",
       "      <td>-0.017330</td>\n",
       "      <td>1.000000</td>\n",
       "      <td>0.037716</td>\n",
       "      <td>0.018621</td>\n",
       "      <td>-0.014018</td>\n",
       "      <td>-0.036854</td>\n",
       "      <td>0.162874</td>\n",
       "    </tr>\n",
       "    <tr>\n",
       "      <th>weekly_max_night_mins</th>\n",
       "      <td>NaN</td>\n",
       "      <td>0.040461</td>\n",
       "      <td>-0.001967</td>\n",
       "      <td>0.037715</td>\n",
       "      <td>0.008430</td>\n",
       "      <td>0.037716</td>\n",
       "      <td>1.000000</td>\n",
       "      <td>-0.000298</td>\n",
       "      <td>0.026565</td>\n",
       "      <td>-0.003965</td>\n",
       "      <td>0.006917</td>\n",
       "    </tr>\n",
       "    <tr>\n",
       "      <th>videos_watched</th>\n",
       "      <td>NaN</td>\n",
       "      <td>0.014284</td>\n",
       "      <td>0.019414</td>\n",
       "      <td>0.018619</td>\n",
       "      <td>0.050739</td>\n",
       "      <td>0.018621</td>\n",
       "      <td>-0.000298</td>\n",
       "      <td>1.000000</td>\n",
       "      <td>0.033929</td>\n",
       "      <td>-0.001201</td>\n",
       "      <td>-0.019314</td>\n",
       "    </tr>\n",
       "    <tr>\n",
       "      <th>maximum_days_inactive</th>\n",
       "      <td>NaN</td>\n",
       "      <td>0.032164</td>\n",
       "      <td>0.019338</td>\n",
       "      <td>-0.014018</td>\n",
       "      <td>0.923740</td>\n",
       "      <td>-0.014018</td>\n",
       "      <td>0.026565</td>\n",
       "      <td>0.033929</td>\n",
       "      <td>1.000000</td>\n",
       "      <td>-0.001523</td>\n",
       "      <td>0.044778</td>\n",
       "    </tr>\n",
       "    <tr>\n",
       "      <th>customer_support_calls</th>\n",
       "      <td>NaN</td>\n",
       "      <td>-0.004074</td>\n",
       "      <td>0.013419</td>\n",
       "      <td>-0.036848</td>\n",
       "      <td>-0.003943</td>\n",
       "      <td>-0.036854</td>\n",
       "      <td>-0.003965</td>\n",
       "      <td>-0.001201</td>\n",
       "      <td>-0.001523</td>\n",
       "      <td>1.000000</td>\n",
       "      <td>0.204774</td>\n",
       "    </tr>\n",
       "    <tr>\n",
       "      <th>churn</th>\n",
       "      <td>NaN</td>\n",
       "      <td>-0.009296</td>\n",
       "      <td>0.002517</td>\n",
       "      <td>0.162876</td>\n",
       "      <td>0.066646</td>\n",
       "      <td>0.162874</td>\n",
       "      <td>0.006917</td>\n",
       "      <td>-0.019314</td>\n",
       "      <td>0.044778</td>\n",
       "      <td>0.204774</td>\n",
       "      <td>1.000000</td>\n",
       "    </tr>\n",
       "  </tbody>\n",
       "</table>\n",
       "</div>"
      ],
      "text/plain": [
       "                        year       age  no_of_days_subscribed  \\\n",
       "year                     NaN       NaN                    NaN   \n",
       "age                      NaN  1.000000               0.017936   \n",
       "no_of_days_subscribed    NaN  0.017936               1.000000   \n",
       "weekly_mins_watched      NaN  0.001952               0.000657   \n",
       "minimum_daily_mins       NaN  0.019840               0.016329   \n",
       "maximum_daily_mins       NaN  0.001965               0.000652   \n",
       "weekly_max_night_mins    NaN  0.040461              -0.001967   \n",
       "videos_watched           NaN  0.014284               0.019414   \n",
       "maximum_days_inactive    NaN  0.032164               0.019338   \n",
       "customer_support_calls   NaN -0.004074               0.013419   \n",
       "churn                    NaN -0.009296               0.002517   \n",
       "\n",
       "                        weekly_mins_watched  minimum_daily_mins  \\\n",
       "year                                    NaN                 NaN   \n",
       "age                                0.001952            0.019840   \n",
       "no_of_days_subscribed              0.000657            0.016329   \n",
       "weekly_mins_watched                1.000000           -0.017332   \n",
       "minimum_daily_mins                -0.017332            1.000000   \n",
       "maximum_daily_mins                 1.000000           -0.017330   \n",
       "weekly_max_night_mins              0.037715            0.008430   \n",
       "videos_watched                     0.018619            0.050739   \n",
       "maximum_days_inactive             -0.014018            0.923740   \n",
       "customer_support_calls            -0.036848           -0.003943   \n",
       "churn                              0.162876            0.066646   \n",
       "\n",
       "                        maximum_daily_mins  weekly_max_night_mins  \\\n",
       "year                                   NaN                    NaN   \n",
       "age                               0.001965               0.040461   \n",
       "no_of_days_subscribed             0.000652              -0.001967   \n",
       "weekly_mins_watched               1.000000               0.037715   \n",
       "minimum_daily_mins               -0.017330               0.008430   \n",
       "maximum_daily_mins                1.000000               0.037716   \n",
       "weekly_max_night_mins             0.037716               1.000000   \n",
       "videos_watched                    0.018621              -0.000298   \n",
       "maximum_days_inactive            -0.014018               0.026565   \n",
       "customer_support_calls           -0.036854              -0.003965   \n",
       "churn                             0.162874               0.006917   \n",
       "\n",
       "                        videos_watched  maximum_days_inactive  \\\n",
       "year                               NaN                    NaN   \n",
       "age                           0.014284               0.032164   \n",
       "no_of_days_subscribed         0.019414               0.019338   \n",
       "weekly_mins_watched           0.018619              -0.014018   \n",
       "minimum_daily_mins            0.050739               0.923740   \n",
       "maximum_daily_mins            0.018621              -0.014018   \n",
       "weekly_max_night_mins        -0.000298               0.026565   \n",
       "videos_watched                1.000000               0.033929   \n",
       "maximum_days_inactive         0.033929               1.000000   \n",
       "customer_support_calls       -0.001201              -0.001523   \n",
       "churn                        -0.019314               0.044778   \n",
       "\n",
       "                        customer_support_calls     churn  \n",
       "year                                       NaN       NaN  \n",
       "age                                  -0.004074 -0.009296  \n",
       "no_of_days_subscribed                 0.013419  0.002517  \n",
       "weekly_mins_watched                  -0.036848  0.162876  \n",
       "minimum_daily_mins                   -0.003943  0.066646  \n",
       "maximum_daily_mins                   -0.036854  0.162874  \n",
       "weekly_max_night_mins                -0.003965  0.006917  \n",
       "videos_watched                       -0.001201 -0.019314  \n",
       "maximum_days_inactive                -0.001523  0.044778  \n",
       "customer_support_calls                1.000000  0.204774  \n",
       "churn                                 0.204774  1.000000  "
      ]
     },
     "execution_count": 201,
     "metadata": {},
     "output_type": "execute_result"
    }
   ],
   "source": [
    "corr=tele_df.corr(numeric_only=True)\n",
    "corr"
   ]
  },
  {
   "cell_type": "code",
   "execution_count": 202,
   "id": "07e8c940",
   "metadata": {},
   "outputs": [
    {
     "data": {
      "text/plain": [
       "<Axes: >"
      ]
     },
     "execution_count": 202,
     "metadata": {},
     "output_type": "execute_result"
    },
    {
     "data": {
      "image/png": "[encoded data removed]",
      "text/plain": [
       "<Figure size 640x480 with 2 Axes>"
      ]
     },
     "metadata": {},
     "output_type": "display_data"
    }
   ],
   "source": [
    "sns.heatmap(corr)"
   ]
  },
  {
   "cell_type": "markdown",
   "id": "7eaa41ed",
   "metadata": {},
   "source": [
    "**11.converting categorical columns to numerical columns**"
   ]
  },
  {
   "cell_type": "code",
   "execution_count": 203,
   "id": "eb283a44",
   "metadata": {},
   "outputs": [
    {
     "data": {
      "text/html": [
       "<div>\n",
       "<style scoped>\n",
       "    .dataframe tbody tr th:only-of-type {\n",
       "        vertical-align: middle;\n",
       "    }\n",
       "\n",
       "    .dataframe tbody tr th {\n",
       "        vertical-align: top;\n",
       "    }\n",
       "\n",
       "    .dataframe thead th {\n",
       "        text-align: right;\n",
       "    }\n",
       "</style>\n",
       "<table border=\"1\" class=\"dataframe\">\n",
       "  <thead>\n",
       "    <tr style=\"text-align: right;\">\n",
       "      <th></th>\n",
       "      <th>year</th>\n",
       "      <th>gender</th>\n",
       "      <th>age</th>\n",
       "      <th>no_of_days_subscribed</th>\n",
       "      <th>multi_screen</th>\n",
       "      <th>mail_subscribed</th>\n",
       "      <th>weekly_mins_watched</th>\n",
       "      <th>minimum_daily_mins</th>\n",
       "      <th>maximum_daily_mins</th>\n",
       "      <th>weekly_max_night_mins</th>\n",
       "      <th>videos_watched</th>\n",
       "      <th>maximum_days_inactive</th>\n",
       "      <th>customer_support_calls</th>\n",
       "      <th>churn</th>\n",
       "    </tr>\n",
       "  </thead>\n",
       "  <tbody>\n",
       "    <tr>\n",
       "      <th>0</th>\n",
       "      <td>2015</td>\n",
       "      <td>Female</td>\n",
       "      <td>36.0</td>\n",
       "      <td>62</td>\n",
       "      <td>no</td>\n",
       "      <td>no</td>\n",
       "      <td>148.35</td>\n",
       "      <td>12.2</td>\n",
       "      <td>16.81</td>\n",
       "      <td>82</td>\n",
       "      <td>1</td>\n",
       "      <td>4.0</td>\n",
       "      <td>1</td>\n",
       "      <td>0.0</td>\n",
       "    </tr>\n",
       "    <tr>\n",
       "      <th>1</th>\n",
       "      <td>2015</td>\n",
       "      <td>Female</td>\n",
       "      <td>39.0</td>\n",
       "      <td>149</td>\n",
       "      <td>no</td>\n",
       "      <td>no</td>\n",
       "      <td>294.45</td>\n",
       "      <td>7.7</td>\n",
       "      <td>33.37</td>\n",
       "      <td>87</td>\n",
       "      <td>3</td>\n",
       "      <td>3.0</td>\n",
       "      <td>2</td>\n",
       "      <td>0.0</td>\n",
       "    </tr>\n",
       "    <tr>\n",
       "      <th>2</th>\n",
       "      <td>2015</td>\n",
       "      <td>Female</td>\n",
       "      <td>37.0</td>\n",
       "      <td>126</td>\n",
       "      <td>no</td>\n",
       "      <td>no</td>\n",
       "      <td>87.30</td>\n",
       "      <td>11.9</td>\n",
       "      <td>9.89</td>\n",
       "      <td>91</td>\n",
       "      <td>1</td>\n",
       "      <td>4.0</td>\n",
       "      <td>5</td>\n",
       "      <td>1.0</td>\n",
       "    </tr>\n",
       "    <tr>\n",
       "      <th>3</th>\n",
       "      <td>2015</td>\n",
       "      <td>Female</td>\n",
       "      <td>24.0</td>\n",
       "      <td>131</td>\n",
       "      <td>no</td>\n",
       "      <td>yes</td>\n",
       "      <td>321.30</td>\n",
       "      <td>9.5</td>\n",
       "      <td>36.41</td>\n",
       "      <td>102</td>\n",
       "      <td>4</td>\n",
       "      <td>3.0</td>\n",
       "      <td>3</td>\n",
       "      <td>0.0</td>\n",
       "    </tr>\n",
       "    <tr>\n",
       "      <th>4</th>\n",
       "      <td>2015</td>\n",
       "      <td>Female</td>\n",
       "      <td>40.0</td>\n",
       "      <td>191</td>\n",
       "      <td>no</td>\n",
       "      <td>no</td>\n",
       "      <td>243.00</td>\n",
       "      <td>10.9</td>\n",
       "      <td>27.54</td>\n",
       "      <td>83</td>\n",
       "      <td>7</td>\n",
       "      <td>3.0</td>\n",
       "      <td>1</td>\n",
       "      <td>0.0</td>\n",
       "    </tr>\n",
       "    <tr>\n",
       "      <th>...</th>\n",
       "      <td>...</td>\n",
       "      <td>...</td>\n",
       "      <td>...</td>\n",
       "      <td>...</td>\n",
       "      <td>...</td>\n",
       "      <td>...</td>\n",
       "      <td>...</td>\n",
       "      <td>...</td>\n",
       "      <td>...</td>\n",
       "      <td>...</td>\n",
       "      <td>...</td>\n",
       "      <td>...</td>\n",
       "      <td>...</td>\n",
       "      <td>...</td>\n",
       "    </tr>\n",
       "    <tr>\n",
       "      <th>1995</th>\n",
       "      <td>2015</td>\n",
       "      <td>Female</td>\n",
       "      <td>54.0</td>\n",
       "      <td>75</td>\n",
       "      <td>no</td>\n",
       "      <td>yes</td>\n",
       "      <td>182.25</td>\n",
       "      <td>11.3</td>\n",
       "      <td>20.66</td>\n",
       "      <td>97</td>\n",
       "      <td>5</td>\n",
       "      <td>4.0</td>\n",
       "      <td>2</td>\n",
       "      <td>0.0</td>\n",
       "    </tr>\n",
       "    <tr>\n",
       "      <th>1996</th>\n",
       "      <td>2015</td>\n",
       "      <td>Male</td>\n",
       "      <td>45.0</td>\n",
       "      <td>127</td>\n",
       "      <td>no</td>\n",
       "      <td>no</td>\n",
       "      <td>273.45</td>\n",
       "      <td>9.3</td>\n",
       "      <td>30.99</td>\n",
       "      <td>116</td>\n",
       "      <td>3</td>\n",
       "      <td>3.0</td>\n",
       "      <td>1</td>\n",
       "      <td>0.0</td>\n",
       "    </tr>\n",
       "    <tr>\n",
       "      <th>1997</th>\n",
       "      <td>2015</td>\n",
       "      <td>Male</td>\n",
       "      <td>53.0</td>\n",
       "      <td>94</td>\n",
       "      <td>no</td>\n",
       "      <td>no</td>\n",
       "      <td>128.85</td>\n",
       "      <td>15.6</td>\n",
       "      <td>14.60</td>\n",
       "      <td>110</td>\n",
       "      <td>16</td>\n",
       "      <td>5.0</td>\n",
       "      <td>0</td>\n",
       "      <td>0.0</td>\n",
       "    </tr>\n",
       "    <tr>\n",
       "      <th>1998</th>\n",
       "      <td>2015</td>\n",
       "      <td>Male</td>\n",
       "      <td>40.0</td>\n",
       "      <td>94</td>\n",
       "      <td>no</td>\n",
       "      <td>no</td>\n",
       "      <td>178.05</td>\n",
       "      <td>10.4</td>\n",
       "      <td>20.18</td>\n",
       "      <td>100</td>\n",
       "      <td>6</td>\n",
       "      <td>3.0</td>\n",
       "      <td>3</td>\n",
       "      <td>0.0</td>\n",
       "    </tr>\n",
       "    <tr>\n",
       "      <th>1999</th>\n",
       "      <td>2015</td>\n",
       "      <td>Male</td>\n",
       "      <td>37.0</td>\n",
       "      <td>73</td>\n",
       "      <td>no</td>\n",
       "      <td>no</td>\n",
       "      <td>326.70</td>\n",
       "      <td>10.3</td>\n",
       "      <td>37.03</td>\n",
       "      <td>89</td>\n",
       "      <td>6</td>\n",
       "      <td>3.0</td>\n",
       "      <td>1</td>\n",
       "      <td>1.0</td>\n",
       "    </tr>\n",
       "  </tbody>\n",
       "</table>\n",
       "<p>2000 rows × 14 columns</p>\n",
       "</div>"
      ],
      "text/plain": [
       "      year  gender   age  no_of_days_subscribed multi_screen mail_subscribed  \\\n",
       "0     2015  Female  36.0                     62           no              no   \n",
       "1     2015  Female  39.0                    149           no              no   \n",
       "2     2015  Female  37.0                    126           no              no   \n",
       "3     2015  Female  24.0                    131           no             yes   \n",
       "4     2015  Female  40.0                    191           no              no   \n",
       "...    ...     ...   ...                    ...          ...             ...   \n",
       "1995  2015  Female  54.0                     75           no             yes   \n",
       "1996  2015    Male  45.0                    127           no              no   \n",
       "1997  2015    Male  53.0                     94           no              no   \n",
       "1998  2015    Male  40.0                     94           no              no   \n",
       "1999  2015    Male  37.0                     73           no              no   \n",
       "\n",
       "      weekly_mins_watched  minimum_daily_mins  maximum_daily_mins  \\\n",
       "0                  148.35                12.2               16.81   \n",
       "1                  294.45                 7.7               33.37   \n",
       "2                   87.30                11.9                9.89   \n",
       "3                  321.30                 9.5               36.41   \n",
       "4                  243.00                10.9               27.54   \n",
       "...                   ...                 ...                 ...   \n",
       "1995               182.25                11.3               20.66   \n",
       "1996               273.45                 9.3               30.99   \n",
       "1997               128.85                15.6               14.60   \n",
       "1998               178.05                10.4               20.18   \n",
       "1999               326.70                10.3               37.03   \n",
       "\n",
       "      weekly_max_night_mins  videos_watched  maximum_days_inactive  \\\n",
       "0                        82               1                    4.0   \n",
       "1                        87               3                    3.0   \n",
       "2                        91               1                    4.0   \n",
       "3                       102               4                    3.0   \n",
       "4                        83               7                    3.0   \n",
       "...                     ...             ...                    ...   \n",
       "1995                     97               5                    4.0   \n",
       "1996                    116               3                    3.0   \n",
       "1997                    110              16                    5.0   \n",
       "1998                    100               6                    3.0   \n",
       "1999                     89               6                    3.0   \n",
       "\n",
       "      customer_support_calls  churn  \n",
       "0                          1    0.0  \n",
       "1                          2    0.0  \n",
       "2                          5    1.0  \n",
       "3                          3    0.0  \n",
       "4                          1    0.0  \n",
       "...                      ...    ...  \n",
       "1995                       2    0.0  \n",
       "1996                       1    0.0  \n",
       "1997                       0    0.0  \n",
       "1998                       3    0.0  \n",
       "1999                       1    1.0  \n",
       "\n",
       "[2000 rows x 14 columns]"
      ]
     },
     "execution_count": 203,
     "metadata": {},
     "output_type": "execute_result"
    }
   ],
   "source": [
    "tele_df"
   ]
  },
  {
   "cell_type": "code",
   "execution_count": 204,
   "id": "c31dad5d",
   "metadata": {},
   "outputs": [
    {
     "data": {
      "text/html": [
       "<div>\n",
       "<style scoped>\n",
       "    .dataframe tbody tr th:only-of-type {\n",
       "        vertical-align: middle;\n",
       "    }\n",
       "\n",
       "    .dataframe tbody tr th {\n",
       "        vertical-align: top;\n",
       "    }\n",
       "\n",
       "    .dataframe thead th {\n",
       "        text-align: right;\n",
       "    }\n",
       "</style>\n",
       "<table border=\"1\" class=\"dataframe\">\n",
       "  <thead>\n",
       "    <tr style=\"text-align: right;\">\n",
       "      <th></th>\n",
       "      <th>year</th>\n",
       "      <th>gender</th>\n",
       "      <th>age</th>\n",
       "      <th>no_of_days_subscribed</th>\n",
       "      <th>multi_screen</th>\n",
       "      <th>mail_subscribed</th>\n",
       "      <th>weekly_mins_watched</th>\n",
       "      <th>minimum_daily_mins</th>\n",
       "      <th>maximum_daily_mins</th>\n",
       "      <th>weekly_max_night_mins</th>\n",
       "      <th>videos_watched</th>\n",
       "      <th>maximum_days_inactive</th>\n",
       "      <th>customer_support_calls</th>\n",
       "      <th>churn</th>\n",
       "    </tr>\n",
       "  </thead>\n",
       "  <tbody>\n",
       "    <tr>\n",
       "      <th>0</th>\n",
       "      <td>2015</td>\n",
       "      <td>0</td>\n",
       "      <td>36.0</td>\n",
       "      <td>62</td>\n",
       "      <td>no</td>\n",
       "      <td>no</td>\n",
       "      <td>148.35</td>\n",
       "      <td>12.2</td>\n",
       "      <td>16.81</td>\n",
       "      <td>82</td>\n",
       "      <td>1</td>\n",
       "      <td>4.0</td>\n",
       "      <td>1</td>\n",
       "      <td>0.0</td>\n",
       "    </tr>\n",
       "    <tr>\n",
       "      <th>1</th>\n",
       "      <td>2015</td>\n",
       "      <td>0</td>\n",
       "      <td>39.0</td>\n",
       "      <td>149</td>\n",
       "      <td>no</td>\n",
       "      <td>no</td>\n",
       "      <td>294.45</td>\n",
       "      <td>7.7</td>\n",
       "      <td>33.37</td>\n",
       "      <td>87</td>\n",
       "      <td>3</td>\n",
       "      <td>3.0</td>\n",
       "      <td>2</td>\n",
       "      <td>0.0</td>\n",
       "    </tr>\n",
       "    <tr>\n",
       "      <th>2</th>\n",
       "      <td>2015</td>\n",
       "      <td>0</td>\n",
       "      <td>37.0</td>\n",
       "      <td>126</td>\n",
       "      <td>no</td>\n",
       "      <td>no</td>\n",
       "      <td>87.30</td>\n",
       "      <td>11.9</td>\n",
       "      <td>9.89</td>\n",
       "      <td>91</td>\n",
       "      <td>1</td>\n",
       "      <td>4.0</td>\n",
       "      <td>5</td>\n",
       "      <td>1.0</td>\n",
       "    </tr>\n",
       "    <tr>\n",
       "      <th>3</th>\n",
       "      <td>2015</td>\n",
       "      <td>0</td>\n",
       "      <td>24.0</td>\n",
       "      <td>131</td>\n",
       "      <td>no</td>\n",
       "      <td>yes</td>\n",
       "      <td>321.30</td>\n",
       "      <td>9.5</td>\n",
       "      <td>36.41</td>\n",
       "      <td>102</td>\n",
       "      <td>4</td>\n",
       "      <td>3.0</td>\n",
       "      <td>3</td>\n",
       "      <td>0.0</td>\n",
       "    </tr>\n",
       "    <tr>\n",
       "      <th>4</th>\n",
       "      <td>2015</td>\n",
       "      <td>0</td>\n",
       "      <td>40.0</td>\n",
       "      <td>191</td>\n",
       "      <td>no</td>\n",
       "      <td>no</td>\n",
       "      <td>243.00</td>\n",
       "      <td>10.9</td>\n",
       "      <td>27.54</td>\n",
       "      <td>83</td>\n",
       "      <td>7</td>\n",
       "      <td>3.0</td>\n",
       "      <td>1</td>\n",
       "      <td>0.0</td>\n",
       "    </tr>\n",
       "    <tr>\n",
       "      <th>...</th>\n",
       "      <td>...</td>\n",
       "      <td>...</td>\n",
       "      <td>...</td>\n",
       "      <td>...</td>\n",
       "      <td>...</td>\n",
       "      <td>...</td>\n",
       "      <td>...</td>\n",
       "      <td>...</td>\n",
       "      <td>...</td>\n",
       "      <td>...</td>\n",
       "      <td>...</td>\n",
       "      <td>...</td>\n",
       "      <td>...</td>\n",
       "      <td>...</td>\n",
       "    </tr>\n",
       "    <tr>\n",
       "      <th>1995</th>\n",
       "      <td>2015</td>\n",
       "      <td>0</td>\n",
       "      <td>54.0</td>\n",
       "      <td>75</td>\n",
       "      <td>no</td>\n",
       "      <td>yes</td>\n",
       "      <td>182.25</td>\n",
       "      <td>11.3</td>\n",
       "      <td>20.66</td>\n",
       "      <td>97</td>\n",
       "      <td>5</td>\n",
       "      <td>4.0</td>\n",
       "      <td>2</td>\n",
       "      <td>0.0</td>\n",
       "    </tr>\n",
       "    <tr>\n",
       "      <th>1996</th>\n",
       "      <td>2015</td>\n",
       "      <td>1</td>\n",
       "      <td>45.0</td>\n",
       "      <td>127</td>\n",
       "      <td>no</td>\n",
       "      <td>no</td>\n",
       "      <td>273.45</td>\n",
       "      <td>9.3</td>\n",
       "      <td>30.99</td>\n",
       "      <td>116</td>\n",
       "      <td>3</td>\n",
       "      <td>3.0</td>\n",
       "      <td>1</td>\n",
       "      <td>0.0</td>\n",
       "    </tr>\n",
       "    <tr>\n",
       "      <th>1997</th>\n",
       "      <td>2015</td>\n",
       "      <td>1</td>\n",
       "      <td>53.0</td>\n",
       "      <td>94</td>\n",
       "      <td>no</td>\n",
       "      <td>no</td>\n",
       "      <td>128.85</td>\n",
       "      <td>15.6</td>\n",
       "      <td>14.60</td>\n",
       "      <td>110</td>\n",
       "      <td>16</td>\n",
       "      <td>5.0</td>\n",
       "      <td>0</td>\n",
       "      <td>0.0</td>\n",
       "    </tr>\n",
       "    <tr>\n",
       "      <th>1998</th>\n",
       "      <td>2015</td>\n",
       "      <td>1</td>\n",
       "      <td>40.0</td>\n",
       "      <td>94</td>\n",
       "      <td>no</td>\n",
       "      <td>no</td>\n",
       "      <td>178.05</td>\n",
       "      <td>10.4</td>\n",
       "      <td>20.18</td>\n",
       "      <td>100</td>\n",
       "      <td>6</td>\n",
       "      <td>3.0</td>\n",
       "      <td>3</td>\n",
       "      <td>0.0</td>\n",
       "    </tr>\n",
       "    <tr>\n",
       "      <th>1999</th>\n",
       "      <td>2015</td>\n",
       "      <td>1</td>\n",
       "      <td>37.0</td>\n",
       "      <td>73</td>\n",
       "      <td>no</td>\n",
       "      <td>no</td>\n",
       "      <td>326.70</td>\n",
       "      <td>10.3</td>\n",
       "      <td>37.03</td>\n",
       "      <td>89</td>\n",
       "      <td>6</td>\n",
       "      <td>3.0</td>\n",
       "      <td>1</td>\n",
       "      <td>1.0</td>\n",
       "    </tr>\n",
       "  </tbody>\n",
       "</table>\n",
       "<p>2000 rows × 14 columns</p>\n",
       "</div>"
      ],
      "text/plain": [
       "      year  gender   age  no_of_days_subscribed multi_screen mail_subscribed  \\\n",
       "0     2015       0  36.0                     62           no              no   \n",
       "1     2015       0  39.0                    149           no              no   \n",
       "2     2015       0  37.0                    126           no              no   \n",
       "3     2015       0  24.0                    131           no             yes   \n",
       "4     2015       0  40.0                    191           no              no   \n",
       "...    ...     ...   ...                    ...          ...             ...   \n",
       "1995  2015       0  54.0                     75           no             yes   \n",
       "1996  2015       1  45.0                    127           no              no   \n",
       "1997  2015       1  53.0                     94           no              no   \n",
       "1998  2015       1  40.0                     94           no              no   \n",
       "1999  2015       1  37.0                     73           no              no   \n",
       "\n",
       "      weekly_mins_watched  minimum_daily_mins  maximum_daily_mins  \\\n",
       "0                  148.35                12.2               16.81   \n",
       "1                  294.45                 7.7               33.37   \n",
       "2                   87.30                11.9                9.89   \n",
       "3                  321.30                 9.5               36.41   \n",
       "4                  243.00                10.9               27.54   \n",
       "...                   ...                 ...                 ...   \n",
       "1995               182.25                11.3               20.66   \n",
       "1996               273.45                 9.3               30.99   \n",
       "1997               128.85                15.6               14.60   \n",
       "1998               178.05                10.4               20.18   \n",
       "1999               326.70                10.3               37.03   \n",
       "\n",
       "      weekly_max_night_mins  videos_watched  maximum_days_inactive  \\\n",
       "0                        82               1                    4.0   \n",
       "1                        87               3                    3.0   \n",
       "2                        91               1                    4.0   \n",
       "3                       102               4                    3.0   \n",
       "4                        83               7                    3.0   \n",
       "...                     ...             ...                    ...   \n",
       "1995                     97               5                    4.0   \n",
       "1996                    116               3                    3.0   \n",
       "1997                    110              16                    5.0   \n",
       "1998                    100               6                    3.0   \n",
       "1999                     89               6                    3.0   \n",
       "\n",
       "      customer_support_calls  churn  \n",
       "0                          1    0.0  \n",
       "1                          2    0.0  \n",
       "2                          5    1.0  \n",
       "3                          3    0.0  \n",
       "4                          1    0.0  \n",
       "...                      ...    ...  \n",
       "1995                       2    0.0  \n",
       "1996                       1    0.0  \n",
       "1997                       0    0.0  \n",
       "1998                       3    0.0  \n",
       "1999                       1    1.0  \n",
       "\n",
       "[2000 rows x 14 columns]"
      ]
     },
     "execution_count": 204,
     "metadata": {},
     "output_type": "execute_result"
    }
   ],
   "source": [
    "d={}\n",
    "labels=tele_df['gender'].unique()\n",
    "for i in range(len(labels)):\n",
    "    d[labels[i]]=i\n",
    "tele_df['gender']=tele_df['gender'].map(d)\n",
    "tele_df"
   ]
  },
  {
   "cell_type": "code",
   "execution_count": 205,
   "id": "19bd72ec",
   "metadata": {},
   "outputs": [
    {
     "data": {
      "text/html": [
       "<div>\n",
       "<style scoped>\n",
       "    .dataframe tbody tr th:only-of-type {\n",
       "        vertical-align: middle;\n",
       "    }\n",
       "\n",
       "    .dataframe tbody tr th {\n",
       "        vertical-align: top;\n",
       "    }\n",
       "\n",
       "    .dataframe thead th {\n",
       "        text-align: right;\n",
       "    }\n",
       "</style>\n",
       "<table border=\"1\" class=\"dataframe\">\n",
       "  <thead>\n",
       "    <tr style=\"text-align: right;\">\n",
       "      <th></th>\n",
       "      <th>year</th>\n",
       "      <th>gender</th>\n",
       "      <th>age</th>\n",
       "      <th>no_of_days_subscribed</th>\n",
       "      <th>multi_screen</th>\n",
       "      <th>mail_subscribed</th>\n",
       "      <th>weekly_mins_watched</th>\n",
       "      <th>minimum_daily_mins</th>\n",
       "      <th>maximum_daily_mins</th>\n",
       "      <th>weekly_max_night_mins</th>\n",
       "      <th>videos_watched</th>\n",
       "      <th>maximum_days_inactive</th>\n",
       "      <th>customer_support_calls</th>\n",
       "      <th>churn</th>\n",
       "    </tr>\n",
       "  </thead>\n",
       "  <tbody>\n",
       "    <tr>\n",
       "      <th>0</th>\n",
       "      <td>2015</td>\n",
       "      <td>0</td>\n",
       "      <td>36.0</td>\n",
       "      <td>62</td>\n",
       "      <td>0</td>\n",
       "      <td>no</td>\n",
       "      <td>148.35</td>\n",
       "      <td>12.2</td>\n",
       "      <td>16.81</td>\n",
       "      <td>82</td>\n",
       "      <td>1</td>\n",
       "      <td>4.0</td>\n",
       "      <td>1</td>\n",
       "      <td>0.0</td>\n",
       "    </tr>\n",
       "    <tr>\n",
       "      <th>1</th>\n",
       "      <td>2015</td>\n",
       "      <td>0</td>\n",
       "      <td>39.0</td>\n",
       "      <td>149</td>\n",
       "      <td>0</td>\n",
       "      <td>no</td>\n",
       "      <td>294.45</td>\n",
       "      <td>7.7</td>\n",
       "      <td>33.37</td>\n",
       "      <td>87</td>\n",
       "      <td>3</td>\n",
       "      <td>3.0</td>\n",
       "      <td>2</td>\n",
       "      <td>0.0</td>\n",
       "    </tr>\n",
       "    <tr>\n",
       "      <th>2</th>\n",
       "      <td>2015</td>\n",
       "      <td>0</td>\n",
       "      <td>37.0</td>\n",
       "      <td>126</td>\n",
       "      <td>0</td>\n",
       "      <td>no</td>\n",
       "      <td>87.30</td>\n",
       "      <td>11.9</td>\n",
       "      <td>9.89</td>\n",
       "      <td>91</td>\n",
       "      <td>1</td>\n",
       "      <td>4.0</td>\n",
       "      <td>5</td>\n",
       "      <td>1.0</td>\n",
       "    </tr>\n",
       "    <tr>\n",
       "      <th>3</th>\n",
       "      <td>2015</td>\n",
       "      <td>0</td>\n",
       "      <td>24.0</td>\n",
       "      <td>131</td>\n",
       "      <td>0</td>\n",
       "      <td>yes</td>\n",
       "      <td>321.30</td>\n",
       "      <td>9.5</td>\n",
       "      <td>36.41</td>\n",
       "      <td>102</td>\n",
       "      <td>4</td>\n",
       "      <td>3.0</td>\n",
       "      <td>3</td>\n",
       "      <td>0.0</td>\n",
       "    </tr>\n",
       "    <tr>\n",
       "      <th>4</th>\n",
       "      <td>2015</td>\n",
       "      <td>0</td>\n",
       "      <td>40.0</td>\n",
       "      <td>191</td>\n",
       "      <td>0</td>\n",
       "      <td>no</td>\n",
       "      <td>243.00</td>\n",
       "      <td>10.9</td>\n",
       "      <td>27.54</td>\n",
       "      <td>83</td>\n",
       "      <td>7</td>\n",
       "      <td>3.0</td>\n",
       "      <td>1</td>\n",
       "      <td>0.0</td>\n",
       "    </tr>\n",
       "    <tr>\n",
       "      <th>...</th>\n",
       "      <td>...</td>\n",
       "      <td>...</td>\n",
       "      <td>...</td>\n",
       "      <td>...</td>\n",
       "      <td>...</td>\n",
       "      <td>...</td>\n",
       "      <td>...</td>\n",
       "      <td>...</td>\n",
       "      <td>...</td>\n",
       "      <td>...</td>\n",
       "      <td>...</td>\n",
       "      <td>...</td>\n",
       "      <td>...</td>\n",
       "      <td>...</td>\n",
       "    </tr>\n",
       "    <tr>\n",
       "      <th>1995</th>\n",
       "      <td>2015</td>\n",
       "      <td>0</td>\n",
       "      <td>54.0</td>\n",
       "      <td>75</td>\n",
       "      <td>0</td>\n",
       "      <td>yes</td>\n",
       "      <td>182.25</td>\n",
       "      <td>11.3</td>\n",
       "      <td>20.66</td>\n",
       "      <td>97</td>\n",
       "      <td>5</td>\n",
       "      <td>4.0</td>\n",
       "      <td>2</td>\n",
       "      <td>0.0</td>\n",
       "    </tr>\n",
       "    <tr>\n",
       "      <th>1996</th>\n",
       "      <td>2015</td>\n",
       "      <td>1</td>\n",
       "      <td>45.0</td>\n",
       "      <td>127</td>\n",
       "      <td>0</td>\n",
       "      <td>no</td>\n",
       "      <td>273.45</td>\n",
       "      <td>9.3</td>\n",
       "      <td>30.99</td>\n",
       "      <td>116</td>\n",
       "      <td>3</td>\n",
       "      <td>3.0</td>\n",
       "      <td>1</td>\n",
       "      <td>0.0</td>\n",
       "    </tr>\n",
       "    <tr>\n",
       "      <th>1997</th>\n",
       "      <td>2015</td>\n",
       "      <td>1</td>\n",
       "      <td>53.0</td>\n",
       "      <td>94</td>\n",
       "      <td>0</td>\n",
       "      <td>no</td>\n",
       "      <td>128.85</td>\n",
       "      <td>15.6</td>\n",
       "      <td>14.60</td>\n",
       "      <td>110</td>\n",
       "      <td>16</td>\n",
       "      <td>5.0</td>\n",
       "      <td>0</td>\n",
       "      <td>0.0</td>\n",
       "    </tr>\n",
       "    <tr>\n",
       "      <th>1998</th>\n",
       "      <td>2015</td>\n",
       "      <td>1</td>\n",
       "      <td>40.0</td>\n",
       "      <td>94</td>\n",
       "      <td>0</td>\n",
       "      <td>no</td>\n",
       "      <td>178.05</td>\n",
       "      <td>10.4</td>\n",
       "      <td>20.18</td>\n",
       "      <td>100</td>\n",
       "      <td>6</td>\n",
       "      <td>3.0</td>\n",
       "      <td>3</td>\n",
       "      <td>0.0</td>\n",
       "    </tr>\n",
       "    <tr>\n",
       "      <th>1999</th>\n",
       "      <td>2015</td>\n",
       "      <td>1</td>\n",
       "      <td>37.0</td>\n",
       "      <td>73</td>\n",
       "      <td>0</td>\n",
       "      <td>no</td>\n",
       "      <td>326.70</td>\n",
       "      <td>10.3</td>\n",
       "      <td>37.03</td>\n",
       "      <td>89</td>\n",
       "      <td>6</td>\n",
       "      <td>3.0</td>\n",
       "      <td>1</td>\n",
       "      <td>1.0</td>\n",
       "    </tr>\n",
       "  </tbody>\n",
       "</table>\n",
       "<p>2000 rows × 14 columns</p>\n",
       "</div>"
      ],
      "text/plain": [
       "      year  gender   age  no_of_days_subscribed  multi_screen mail_subscribed  \\\n",
       "0     2015       0  36.0                     62             0              no   \n",
       "1     2015       0  39.0                    149             0              no   \n",
       "2     2015       0  37.0                    126             0              no   \n",
       "3     2015       0  24.0                    131             0             yes   \n",
       "4     2015       0  40.0                    191             0              no   \n",
       "...    ...     ...   ...                    ...           ...             ...   \n",
       "1995  2015       0  54.0                     75             0             yes   \n",
       "1996  2015       1  45.0                    127             0              no   \n",
       "1997  2015       1  53.0                     94             0              no   \n",
       "1998  2015       1  40.0                     94             0              no   \n",
       "1999  2015       1  37.0                     73             0              no   \n",
       "\n",
       "      weekly_mins_watched  minimum_daily_mins  maximum_daily_mins  \\\n",
       "0                  148.35                12.2               16.81   \n",
       "1                  294.45                 7.7               33.37   \n",
       "2                   87.30                11.9                9.89   \n",
       "3                  321.30                 9.5               36.41   \n",
       "4                  243.00                10.9               27.54   \n",
       "...                   ...                 ...                 ...   \n",
       "1995               182.25                11.3               20.66   \n",
       "1996               273.45                 9.3               30.99   \n",
       "1997               128.85                15.6               14.60   \n",
       "1998               178.05                10.4               20.18   \n",
       "1999               326.70                10.3               37.03   \n",
       "\n",
       "      weekly_max_night_mins  videos_watched  maximum_days_inactive  \\\n",
       "0                        82               1                    4.0   \n",
       "1                        87               3                    3.0   \n",
       "2                        91               1                    4.0   \n",
       "3                       102               4                    3.0   \n",
       "4                        83               7                    3.0   \n",
       "...                     ...             ...                    ...   \n",
       "1995                     97               5                    4.0   \n",
       "1996                    116               3                    3.0   \n",
       "1997                    110              16                    5.0   \n",
       "1998                    100               6                    3.0   \n",
       "1999                     89               6                    3.0   \n",
       "\n",
       "      customer_support_calls  churn  \n",
       "0                          1    0.0  \n",
       "1                          2    0.0  \n",
       "2                          5    1.0  \n",
       "3                          3    0.0  \n",
       "4                          1    0.0  \n",
       "...                      ...    ...  \n",
       "1995                       2    0.0  \n",
       "1996                       1    0.0  \n",
       "1997                       0    0.0  \n",
       "1998                       3    0.0  \n",
       "1999                       1    1.0  \n",
       "\n",
       "[2000 rows x 14 columns]"
      ]
     },
     "execution_count": 205,
     "metadata": {},
     "output_type": "execute_result"
    }
   ],
   "source": [
    "d={}\n",
    "labels=tele_df['multi_screen'].unique()\n",
    "for i in range(len(labels)):\n",
    "    d[labels[i]]=i\n",
    "tele_df['multi_screen']=tele_df['multi_screen'].map(d)\n",
    "tele_df"
   ]
  },
  {
   "cell_type": "code",
   "execution_count": 206,
   "id": "1e8751b4",
   "metadata": {},
   "outputs": [
    {
     "data": {
      "text/html": [
       "<div>\n",
       "<style scoped>\n",
       "    .dataframe tbody tr th:only-of-type {\n",
       "        vertical-align: middle;\n",
       "    }\n",
       "\n",
       "    .dataframe tbody tr th {\n",
       "        vertical-align: top;\n",
       "    }\n",
       "\n",
       "    .dataframe thead th {\n",
       "        text-align: right;\n",
       "    }\n",
       "</style>\n",
       "<table border=\"1\" class=\"dataframe\">\n",
       "  <thead>\n",
       "    <tr style=\"text-align: right;\">\n",
       "      <th></th>\n",
       "      <th>year</th>\n",
       "      <th>gender</th>\n",
       "      <th>age</th>\n",
       "      <th>no_of_days_subscribed</th>\n",
       "      <th>multi_screen</th>\n",
       "      <th>mail_subscribed</th>\n",
       "      <th>weekly_mins_watched</th>\n",
       "      <th>minimum_daily_mins</th>\n",
       "      <th>maximum_daily_mins</th>\n",
       "      <th>weekly_max_night_mins</th>\n",
       "      <th>videos_watched</th>\n",
       "      <th>maximum_days_inactive</th>\n",
       "      <th>customer_support_calls</th>\n",
       "      <th>churn</th>\n",
       "    </tr>\n",
       "  </thead>\n",
       "  <tbody>\n",
       "    <tr>\n",
       "      <th>0</th>\n",
       "      <td>2015</td>\n",
       "      <td>0</td>\n",
       "      <td>36.0</td>\n",
       "      <td>62</td>\n",
       "      <td>0</td>\n",
       "      <td>0</td>\n",
       "      <td>148.35</td>\n",
       "      <td>12.2</td>\n",
       "      <td>16.81</td>\n",
       "      <td>82</td>\n",
       "      <td>1</td>\n",
       "      <td>4.0</td>\n",
       "      <td>1</td>\n",
       "      <td>0.0</td>\n",
       "    </tr>\n",
       "    <tr>\n",
       "      <th>1</th>\n",
       "      <td>2015</td>\n",
       "      <td>0</td>\n",
       "      <td>39.0</td>\n",
       "      <td>149</td>\n",
       "      <td>0</td>\n",
       "      <td>0</td>\n",
       "      <td>294.45</td>\n",
       "      <td>7.7</td>\n",
       "      <td>33.37</td>\n",
       "      <td>87</td>\n",
       "      <td>3</td>\n",
       "      <td>3.0</td>\n",
       "      <td>2</td>\n",
       "      <td>0.0</td>\n",
       "    </tr>\n",
       "    <tr>\n",
       "      <th>2</th>\n",
       "      <td>2015</td>\n",
       "      <td>0</td>\n",
       "      <td>37.0</td>\n",
       "      <td>126</td>\n",
       "      <td>0</td>\n",
       "      <td>0</td>\n",
       "      <td>87.30</td>\n",
       "      <td>11.9</td>\n",
       "      <td>9.89</td>\n",
       "      <td>91</td>\n",
       "      <td>1</td>\n",
       "      <td>4.0</td>\n",
       "      <td>5</td>\n",
       "      <td>1.0</td>\n",
       "    </tr>\n",
       "    <tr>\n",
       "      <th>3</th>\n",
       "      <td>2015</td>\n",
       "      <td>0</td>\n",
       "      <td>24.0</td>\n",
       "      <td>131</td>\n",
       "      <td>0</td>\n",
       "      <td>1</td>\n",
       "      <td>321.30</td>\n",
       "      <td>9.5</td>\n",
       "      <td>36.41</td>\n",
       "      <td>102</td>\n",
       "      <td>4</td>\n",
       "      <td>3.0</td>\n",
       "      <td>3</td>\n",
       "      <td>0.0</td>\n",
       "    </tr>\n",
       "    <tr>\n",
       "      <th>4</th>\n",
       "      <td>2015</td>\n",
       "      <td>0</td>\n",
       "      <td>40.0</td>\n",
       "      <td>191</td>\n",
       "      <td>0</td>\n",
       "      <td>0</td>\n",
       "      <td>243.00</td>\n",
       "      <td>10.9</td>\n",
       "      <td>27.54</td>\n",
       "      <td>83</td>\n",
       "      <td>7</td>\n",
       "      <td>3.0</td>\n",
       "      <td>1</td>\n",
       "      <td>0.0</td>\n",
       "    </tr>\n",
       "    <tr>\n",
       "      <th>...</th>\n",
       "      <td>...</td>\n",
       "      <td>...</td>\n",
       "      <td>...</td>\n",
       "      <td>...</td>\n",
       "      <td>...</td>\n",
       "      <td>...</td>\n",
       "      <td>...</td>\n",
       "      <td>...</td>\n",
       "      <td>...</td>\n",
       "      <td>...</td>\n",
       "      <td>...</td>\n",
       "      <td>...</td>\n",
       "      <td>...</td>\n",
       "      <td>...</td>\n",
       "    </tr>\n",
       "    <tr>\n",
       "      <th>1995</th>\n",
       "      <td>2015</td>\n",
       "      <td>0</td>\n",
       "      <td>54.0</td>\n",
       "      <td>75</td>\n",
       "      <td>0</td>\n",
       "      <td>1</td>\n",
       "      <td>182.25</td>\n",
       "      <td>11.3</td>\n",
       "      <td>20.66</td>\n",
       "      <td>97</td>\n",
       "      <td>5</td>\n",
       "      <td>4.0</td>\n",
       "      <td>2</td>\n",
       "      <td>0.0</td>\n",
       "    </tr>\n",
       "    <tr>\n",
       "      <th>1996</th>\n",
       "      <td>2015</td>\n",
       "      <td>1</td>\n",
       "      <td>45.0</td>\n",
       "      <td>127</td>\n",
       "      <td>0</td>\n",
       "      <td>0</td>\n",
       "      <td>273.45</td>\n",
       "      <td>9.3</td>\n",
       "      <td>30.99</td>\n",
       "      <td>116</td>\n",
       "      <td>3</td>\n",
       "      <td>3.0</td>\n",
       "      <td>1</td>\n",
       "      <td>0.0</td>\n",
       "    </tr>\n",
       "    <tr>\n",
       "      <th>1997</th>\n",
       "      <td>2015</td>\n",
       "      <td>1</td>\n",
       "      <td>53.0</td>\n",
       "      <td>94</td>\n",
       "      <td>0</td>\n",
       "      <td>0</td>\n",
       "      <td>128.85</td>\n",
       "      <td>15.6</td>\n",
       "      <td>14.60</td>\n",
       "      <td>110</td>\n",
       "      <td>16</td>\n",
       "      <td>5.0</td>\n",
       "      <td>0</td>\n",
       "      <td>0.0</td>\n",
       "    </tr>\n",
       "    <tr>\n",
       "      <th>1998</th>\n",
       "      <td>2015</td>\n",
       "      <td>1</td>\n",
       "      <td>40.0</td>\n",
       "      <td>94</td>\n",
       "      <td>0</td>\n",
       "      <td>0</td>\n",
       "      <td>178.05</td>\n",
       "      <td>10.4</td>\n",
       "      <td>20.18</td>\n",
       "      <td>100</td>\n",
       "      <td>6</td>\n",
       "      <td>3.0</td>\n",
       "      <td>3</td>\n",
       "      <td>0.0</td>\n",
       "    </tr>\n",
       "    <tr>\n",
       "      <th>1999</th>\n",
       "      <td>2015</td>\n",
       "      <td>1</td>\n",
       "      <td>37.0</td>\n",
       "      <td>73</td>\n",
       "      <td>0</td>\n",
       "      <td>0</td>\n",
       "      <td>326.70</td>\n",
       "      <td>10.3</td>\n",
       "      <td>37.03</td>\n",
       "      <td>89</td>\n",
       "      <td>6</td>\n",
       "      <td>3.0</td>\n",
       "      <td>1</td>\n",
       "      <td>1.0</td>\n",
       "    </tr>\n",
       "  </tbody>\n",
       "</table>\n",
       "<p>2000 rows × 14 columns</p>\n",
       "</div>"
      ],
      "text/plain": [
       "      year  gender   age  no_of_days_subscribed  multi_screen  \\\n",
       "0     2015       0  36.0                     62             0   \n",
       "1     2015       0  39.0                    149             0   \n",
       "2     2015       0  37.0                    126             0   \n",
       "3     2015       0  24.0                    131             0   \n",
       "4     2015       0  40.0                    191             0   \n",
       "...    ...     ...   ...                    ...           ...   \n",
       "1995  2015       0  54.0                     75             0   \n",
       "1996  2015       1  45.0                    127             0   \n",
       "1997  2015       1  53.0                     94             0   \n",
       "1998  2015       1  40.0                     94             0   \n",
       "1999  2015       1  37.0                     73             0   \n",
       "\n",
       "      mail_subscribed  weekly_mins_watched  minimum_daily_mins  \\\n",
       "0                   0               148.35                12.2   \n",
       "1                   0               294.45                 7.7   \n",
       "2                   0                87.30                11.9   \n",
       "3                   1               321.30                 9.5   \n",
       "4                   0               243.00                10.9   \n",
       "...               ...                  ...                 ...   \n",
       "1995                1               182.25                11.3   \n",
       "1996                0               273.45                 9.3   \n",
       "1997                0               128.85                15.6   \n",
       "1998                0               178.05                10.4   \n",
       "1999                0               326.70                10.3   \n",
       "\n",
       "      maximum_daily_mins  weekly_max_night_mins  videos_watched  \\\n",
       "0                  16.81                     82               1   \n",
       "1                  33.37                     87               3   \n",
       "2                   9.89                     91               1   \n",
       "3                  36.41                    102               4   \n",
       "4                  27.54                     83               7   \n",
       "...                  ...                    ...             ...   \n",
       "1995               20.66                     97               5   \n",
       "1996               30.99                    116               3   \n",
       "1997               14.60                    110              16   \n",
       "1998               20.18                    100               6   \n",
       "1999               37.03                     89               6   \n",
       "\n",
       "      maximum_days_inactive  customer_support_calls  churn  \n",
       "0                       4.0                       1    0.0  \n",
       "1                       3.0                       2    0.0  \n",
       "2                       4.0                       5    1.0  \n",
       "3                       3.0                       3    0.0  \n",
       "4                       3.0                       1    0.0  \n",
       "...                     ...                     ...    ...  \n",
       "1995                    4.0                       2    0.0  \n",
       "1996                    3.0                       1    0.0  \n",
       "1997                    5.0                       0    0.0  \n",
       "1998                    3.0                       3    0.0  \n",
       "1999                    3.0                       1    1.0  \n",
       "\n",
       "[2000 rows x 14 columns]"
      ]
     },
     "execution_count": 206,
     "metadata": {},
     "output_type": "execute_result"
    }
   ],
   "source": [
    "d={}\n",
    "labels=tele_df['mail_subscribed'].unique()\n",
    "for i in range(len(labels)):\n",
    "    d[labels[i]]=i\n",
    "tele_df['mail_subscribed']=tele_df['mail_subscribed'].map(d)\n",
    "tele_df"
   ]
  },
  {
   "cell_type": "markdown",
   "id": "73416a61",
   "metadata": {},
   "source": [
    "**12.scale the data**"
   ]
  },
  {
   "cell_type": "code",
   "execution_count": 210,
   "id": "454d64a7",
   "metadata": {},
   "outputs": [
    {
     "data": {
      "text/plain": [
       "0      -0.137921\n",
       "1       0.248232\n",
       "2      -0.009203\n",
       "3      -1.682534\n",
       "4       0.376950\n",
       "          ...   \n",
       "1995    2.178998\n",
       "1996    1.020539\n",
       "1997    2.050280\n",
       "1998    0.376950\n",
       "1999   -0.009203\n",
       "Name: age, Length: 2000, dtype: float64"
      ]
     },
     "execution_count": 210,
     "metadata": {},
     "output_type": "execute_result"
    }
   ],
   "source": [
    "from sklearn.preprocessing import StandardScaler\n",
    "ss=StandardScaler()\n",
    "tele_df['age']=ss.fit_transform(tele_df[['age']])\n",
    "tele_df['age']"
   ]
  },
  {
   "cell_type": "code",
   "execution_count": null,
   "id": "6d106ed5",
   "metadata": {},
   "outputs": [],
   "source": []
  }
 ],
 "metadata": {
  "kernelspec": {
   "display_name": "Python 3 (ipykernel)",
   "language": "python",
   "name": "python3"
  },
  "language_info": {
   "codemirror_mode": {
    "name": "ipython",
    "version": 3
   },
   "file_extension": ".py",
   "mimetype": "text/x-python",
   "name": "python",
   "nbconvert_exporter": "python",
   "pygments_lexer": "ipython3",
   "version": "3.10.9"
  }
 },
 "nbformat": 4,
 "nbformat_minor": 5
}
